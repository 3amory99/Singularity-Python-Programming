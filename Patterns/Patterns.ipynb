{
 "cells": [
  {
   "cell_type": "markdown",
   "metadata": {},
   "source": [
    "<html>\n",
    "<body>\n",
    "<div align=\"center\">\n",
    "<h3>Prepared by Omar Mahmoud</h3>\n",
    "    \n",
    "<h1>Patterns</h1>\n",
    "\n",
    "<h3>Note: This repository is for a personal Reference and study</h3>\n",
    "\n",
    "<h3>Follow Me on - <a href=\"https://www.linkedin.com/in/omar-mahmoud-5bb616175/\">LinkedIn</a>&nbsp; <a href=\"https://twitter.com/OmarMah25544092\">Twitter</a>&nbsp; <a href=\"https://www.instagram.com/3amory99/\">Instagram</a>&nbsp; <a href=\"https://www.facebook.com/Mora898/\">Facebook</a></h3>\n",
    "</div>\n",
    "\n",
    "</div>\n",
    "</body>\n",
    "</html>"
   ]
  },
  {
   "cell_type": "markdown",
   "metadata": {},
   "source": [
    "## Print A Letter with stars"
   ]
  },
  {
   "cell_type": "code",
   "execution_count": 12,
   "metadata": {},
   "outputs": [
    {
     "name": "stdout",
     "output_type": "stream",
     "text": [
      "Please Enter the number of Rows: 8\n",
      "Please Enter the number of Coulmns: 10\n",
      "**********\n",
      "*        *\n",
      "*        *\n",
      "*        *\n",
      "**********\n",
      "*        *\n",
      "*        *\n",
      "*        *\n"
     ]
    }
   ],
   "source": [
    "rows, coulmns = int(input(\"Please Enter the number of Rows: \")), int(input(\"Please Enter the number of Coulmns: \"))\n",
    "for row in range(rows):\n",
    "    for coulmn in range(coulmns):\n",
    "        if (coulmn == 0 or coulmn == coulmns-1) or ((row == 0 or row ==int(rows/2)) and (coulmn > 0 or coulmn < (coulmns-1))):\n",
    "            print(\"*\",end =\"\")\n",
    "        else:\n",
    "            print(\" \",end =\"\")\n",
    "    print()\n"
   ]
  },
  {
   "cell_type": "code",
   "execution_count": 18,
   "metadata": {},
   "outputs": [
    {
     "name": "stdout",
     "output_type": "stream",
     "text": [
      "Please Enter the number of Rows: 8\n",
      "Please Enter the number of Coulmns: 10\n",
      " ******** \n",
      "*        *\n",
      "*        *\n",
      "*        *\n",
      "**********\n",
      "*        *\n",
      "*        *\n",
      "*        *\n"
     ]
    }
   ],
   "source": [
    "rows, coulmns = int(input(\"Please Enter the number of Rows: \")), int(input(\"Please Enter the number of Coulmns: \"))\n",
    "for row in range(rows):\n",
    "    for coulmn in range(coulmns):\n",
    "        if ((coulmn == 0 or coulmn == coulmns-1) and row!=0) or ((row==0 or row==int(rows/2)) and (coulmn>0 and coulmn< (coulmns-1))):\n",
    "            print(\"*\",end =\"\")\n",
    "        else:\n",
    "            print(\" \",end =\"\")\n",
    "    print()\n"
   ]
  },
  {
   "cell_type": "markdown",
   "metadata": {},
   "source": [
    "## Print B Letter with stars"
   ]
  },
  {
   "cell_type": "code",
   "execution_count": 28,
   "metadata": {},
   "outputs": [
    {
     "name": "stdout",
     "output_type": "stream",
     "text": [
      "Please Enter the number of Rows: 8\n",
      "Please Enter the number of Coulmns: 10\n",
      "********* \n",
      "*        *\n",
      "*        *\n",
      "*        *\n",
      "**********\n",
      "*        *\n",
      "*        *\n",
      "********* \n"
     ]
    }
   ],
   "source": [
    "rows, coulmns = int(input(\"Please Enter the number of Rows: \")), int(input(\"Please Enter the number of Coulmns: \"))\n",
    "for row in range(rows):\n",
    "    for coulmn in range(coulmns):\n",
    "        if ((coulmn == 0 or (coulmn == coulmns-1) and row!=0 and row!= rows-1 )) or ((row==0 or row==int(rows/2) or row == rows-1) and (coulmn>0 and coulmn< (coulmns-1))):\n",
    "            print(\"*\",end =\"\")\n",
    "        else:\n",
    "            print(\" \",end =\"\")\n",
    "    print()\n"
   ]
  },
  {
   "cell_type": "markdown",
   "metadata": {},
   "source": [
    "## Print C Letter with stars"
   ]
  },
  {
   "cell_type": "code",
   "execution_count": 33,
   "metadata": {},
   "outputs": [
    {
     "name": "stdout",
     "output_type": "stream",
     "text": [
      "Please Enter the number of Rows: 8\n",
      "Please Enter the number of Coulmns: 10\n",
      " *********\n",
      "*         \n",
      "*         \n",
      "*         \n",
      "*         \n",
      "*         \n",
      "*         \n",
      " *********\n"
     ]
    }
   ],
   "source": [
    "rows, coulmns = int(input(\"Please Enter the number of Rows: \")), int(input(\"Please Enter the number of Coulmns: \"))\n",
    "for row in range(rows):\n",
    "    for coulmn in range(coulmns):\n",
    "        if (coulmn == 0 and (row!=0 and row!=(rows-1))) or ((row==0 or row==(rows-1)) and (coulmn!=0)):\n",
    "            print(\"*\",end =\"\")\n",
    "        else:\n",
    "            print(\" \",end =\"\")\n",
    "    print()\n"
   ]
  },
  {
   "cell_type": "markdown",
   "metadata": {},
   "source": [
    "## Print D Letter with stars"
   ]
  },
  {
   "cell_type": "code",
   "execution_count": 35,
   "metadata": {},
   "outputs": [
    {
     "name": "stdout",
     "output_type": "stream",
     "text": [
      "Please Enter the number of Rows: 8\n",
      "Please Enter the number of Coulmns: 10\n",
      "********* \n",
      "*        *\n",
      "*        *\n",
      "*        *\n",
      "*        *\n",
      "*        *\n",
      "*        *\n",
      "********* \n"
     ]
    }
   ],
   "source": [
    "rows, coulmns = int(input(\"Please Enter the number of Rows: \")), int(input(\"Please Enter the number of Coulmns: \"))\n",
    "for row in range(rows):\n",
    "    for coulmn in range(coulmns):\n",
    "        if ((coulmn == 0 or (coulmn == coulmns-1) and row!=0 and row!= rows-1 )) or ((row==0 or row == rows-1) and (coulmn>0 and coulmn< (coulmns-1))):\n",
    "            print(\"*\",end =\"\")\n",
    "        else:\n",
    "            print(\" \",end =\"\")\n",
    "    print()\n"
   ]
  },
  {
   "cell_type": "markdown",
   "metadata": {},
   "source": [
    "## Print O Letter with stars"
   ]
  },
  {
   "cell_type": "code",
   "execution_count": 36,
   "metadata": {},
   "outputs": [
    {
     "name": "stdout",
     "output_type": "stream",
     "text": [
      "Please Enter the number of Rows: 8\n",
      "Please Enter the number of Coulmns: 10\n",
      " ******** \n",
      "*        *\n",
      "*        *\n",
      "*        *\n",
      "*        *\n",
      "*        *\n",
      "*        *\n",
      " ******** \n"
     ]
    }
   ],
   "source": [
    "rows, coulmns = int(input(\"Please Enter the number of Rows: \")), int(input(\"Please Enter the number of Coulmns: \"))\n",
    "for row in range(rows):\n",
    "    for coulmn in range(coulmns):\n",
    "        if ((coulmn == 0 or coulmn == coulmns-1) and row!=0 and row!= rows-1) or ((row==0 or row == rows-1) and (coulmn>0 and coulmn< (coulmns-1))):\n",
    "            print(\"*\",end =\"\")\n",
    "        else:\n",
    "            print(\" \",end =\"\")\n",
    "    print()"
   ]
  },
  {
   "cell_type": "markdown",
   "metadata": {},
   "source": [
    "## Triangle Pattern"
   ]
  },
  {
   "cell_type": "code",
   "execution_count": 46,
   "metadata": {},
   "outputs": [
    {
     "name": "stdout",
     "output_type": "stream",
     "text": [
      "Enter number of rows: 10\n",
      "*\n",
      "**\n",
      "***\n",
      "****\n",
      "*****\n",
      "******\n",
      "*******\n",
      "********\n",
      "*********\n",
      "**********\n"
     ]
    }
   ],
   "source": [
    "rows = int(input('Enter number of rows: '))\n",
    "for row in range(rows):\n",
    "    for j in range(row+1):\n",
    "        print(\"*\", end='')\n",
    "    print()"
   ]
  },
  {
   "cell_type": "code",
   "execution_count": 51,
   "metadata": {},
   "outputs": [
    {
     "name": "stdout",
     "output_type": "stream",
     "text": [
      "Enter number of rows: 10\n",
      "**********\n",
      "*********\n",
      "********\n",
      "*******\n",
      "******\n",
      "*****\n",
      "****\n",
      "***\n",
      "**\n",
      "*\n"
     ]
    }
   ],
   "source": [
    "rows = int(input('Enter number of rows: '))\n",
    "for row in range(rows):\n",
    "    for j in range(rows-row):\n",
    "        print(\"*\", end='')\n",
    "    print()"
   ]
  },
  {
   "cell_type": "code",
   "execution_count": 1,
   "metadata": {},
   "outputs": [
    {
     "name": "stdout",
     "output_type": "stream",
     "text": [
      "1\n",
      "22\n",
      "333\n",
      "4444\n",
      "55555\n",
      "666666\n",
      "7777777\n",
      "88888888\n"
     ]
    }
   ],
   "source": [
    "rows = int(input('Enter number of rows: '))\n",
    "for row in range(rows):\n",
    "    for j in range(row+1):\n",
    "        print(row+1, end='')\n",
    "    print()"
   ]
  },
  {
   "cell_type": "code",
   "execution_count": 2,
   "metadata": {},
   "outputs": [
    {
     "name": "stdout",
     "output_type": "stream",
     "text": [
      "Enter number of rows: 8\n",
      "88888888\n",
      "7777777\n",
      "666666\n",
      "55555\n",
      "4444\n",
      "333\n",
      "22\n",
      "1\n"
     ]
    }
   ],
   "source": [
    "rows = int(input('Enter number of rows: '))\n",
    "for row in range(rows):\n",
    "    for j in range(rows-row):\n",
    "        print(rows-row, end='')\n",
    "    print()"
   ]
  },
  {
   "cell_type": "code",
   "execution_count": 4,
   "metadata": {},
   "outputs": [
    {
     "name": "stdout",
     "output_type": "stream",
     "text": [
      "Enter number of rows: 8\n",
      "88888888\n",
      "8888888\n",
      "888888\n",
      "88888\n",
      "8888\n",
      "888\n",
      "88\n",
      "8\n"
     ]
    }
   ],
   "source": [
    "rows = int(input('Enter number of rows: '))\n",
    "for row in range(rows):\n",
    "    for j in range(rows-row):\n",
    "        print(rows, end='')\n",
    "    print()"
   ]
  },
  {
   "cell_type": "code",
   "execution_count": 8,
   "metadata": {},
   "outputs": [
    {
     "name": "stdout",
     "output_type": "stream",
     "text": [
      "Enter number of rows: 8\n",
      "\n",
      "1\n",
      "12\n",
      "123\n",
      "1234\n",
      "12345\n",
      "123456\n",
      "1234567\n"
     ]
    }
   ],
   "source": [
    "rows = int(input('Enter number of rows: '))\n",
    "for row in range(rows):\n",
    "    for j in range(1,row+1):\n",
    "        print(j, end='')\n",
    "    print()"
   ]
  },
  {
   "cell_type": "markdown",
   "metadata": {},
   "source": [
    "## Pyramid of Stars"
   ]
  },
  {
   "cell_type": "code",
   "execution_count": 23,
   "metadata": {},
   "outputs": [
    {
     "name": "stdout",
     "output_type": "stream",
     "text": [
      "Enter size:- 10\n",
      "          *\n",
      "         ***\n",
      "        *****\n",
      "       *******\n",
      "      *********\n",
      "     ***********\n",
      "    *************\n",
      "   ***************\n",
      "  *****************\n",
      " *******************\n"
     ]
    }
   ],
   "source": [
    "rows = int(input('Enter size:- '))\n",
    "for i in range(rows):\n",
    "    for j in range(rows-i): \n",
    "        print(end=' ')    \n",
    "    for j in range(i): \n",
    "        print(\"*\",end='')\n",
    "    for j in range(i+1):\n",
    "        print(\"*\",end='')\n",
    "    print()"
   ]
  },
  {
   "cell_type": "code",
   "execution_count": 6,
   "metadata": {},
   "outputs": [
    {
     "name": "stdout",
     "output_type": "stream",
     "text": [
      "Enter size:- 10\n",
      "                    * \n",
      "                  * * * \n",
      "                * * * * * \n",
      "              * * * * * * * \n",
      "            * * * * * * * * * \n",
      "          * * * * * * * * * * * \n",
      "        * * * * * * * * * * * * * \n",
      "      * * * * * * * * * * * * * * * \n",
      "    * * * * * * * * * * * * * * * * * \n",
      "  * * * * * * * * * * * * * * * * * * * \n"
     ]
    }
   ],
   "source": [
    "rows = int(input('Enter size:- '))\n",
    "for i in range(rows):\n",
    "    for j in range(rows-i): \n",
    "        print(\" \",end=' ')    \n",
    "    for j in range(i): \n",
    "        print(\"*\",end=' ')\n",
    "    for j in range(i+1):\n",
    "        print(\"*\",end=' ')\n",
    "    print()"
   ]
  },
  {
   "cell_type": "code",
   "execution_count": 7,
   "metadata": {},
   "outputs": [
    {
     "name": "stdout",
     "output_type": "stream",
     "text": [
      "Enter size:- 10\n",
      "     *\n",
      "    ***\n",
      "   *****\n",
      "  *******\n",
      " *********\n",
      " *********\n",
      "  *******\n",
      "   *****\n",
      "    ***\n",
      "     *\n"
     ]
    }
   ],
   "source": [
    "rows = int(input('Enter size:- '))\n",
    "n = rows//2 \n",
    "for i in range(n):\n",
    "    for j in range(n-i): \n",
    "        print(end=' ')    \n",
    "    for j in range(i): \n",
    "        print(\"*\",end='')\n",
    "    for j in range(i+1):\n",
    "        print(\"*\",end='')\n",
    "    print()\n",
    "for i in range(n):\n",
    "    for j in range(i+1): \n",
    "        print(end=' ')    \n",
    "    for j in range(1,n-i): \n",
    "        print(\"*\",end='')\n",
    "    for j in range(n-i,0,-1):\n",
    "        print(\"*\",end='')\n",
    "    print()"
   ]
  },
  {
   "cell_type": "code",
   "execution_count": 8,
   "metadata": {},
   "outputs": [
    {
     "name": "stdout",
     "output_type": "stream",
     "text": [
      "10\n",
      "------------------j------------------\n",
      "----------------j-i-j----------------\n",
      "--------------j-i-h-i-j--------------\n",
      "------------j-i-h-g-h-i-j------------\n",
      "----------j-i-h-g-f-g-h-i-j----------\n",
      "--------j-i-h-g-f-e-f-g-h-i-j--------\n",
      "------j-i-h-g-f-e-d-e-f-g-h-i-j------\n",
      "----j-i-h-g-f-e-d-c-d-e-f-g-h-i-j----\n",
      "--j-i-h-g-f-e-d-c-b-c-d-e-f-g-h-i-j--\n",
      "j-i-h-g-f-e-d-c-b-a-b-c-d-e-f-g-h-i-j\n",
      "--j-i-h-g-f-e-d-c-b-c-d-e-f-g-h-i-j--\n",
      "----j-i-h-g-f-e-d-c-d-e-f-g-h-i-j----\n",
      "------j-i-h-g-f-e-d-e-f-g-h-i-j------\n",
      "--------j-i-h-g-f-e-f-g-h-i-j--------\n",
      "----------j-i-h-g-f-g-h-i-j----------\n",
      "------------j-i-h-g-h-i-j------------\n",
      "--------------j-i-h-i-j--------------\n",
      "----------------j-i-j----------------\n",
      "------------------j------------------\n"
     ]
    }
   ],
   "source": [
    "# Patterns\n",
    "n = int(input())\n",
    "import string\n",
    "from collections import defaultdict\n",
    "letters = string.ascii_lowercase\n",
    "index_dict = defaultdict(list)\n",
    "index_dict1 = defaultdict(list)\n",
    "mid = int((n*4-3)/2)\n",
    "count=0\n",
    "rows, cols = (n*2-1,n*4-3) \n",
    "dlist = [[-1 for i in range(cols)] for j in range(rows)]\n",
    "for i in range(1,n+1):\n",
    "    for j in range(mid,-mid-1,-2):\n",
    "        index_dict[letters[n-i]].append(abs(j))\n",
    "        \n",
    "    for j in range(mid,mid*2+1,2):  \n",
    "        index_dict1[letters[n-i]].append(j)\n",
    "        if j == mid*2:\n",
    "            for k in range(2,mid+2,2):\n",
    "                index_dict1[letters[n-i]].append(j-k)    \n",
    "    if i > 1:\n",
    "        count = count+2 \n",
    "        for m in range(1,count+1):\n",
    "            index_dict[letters[n-i]][n-i+m]='-' \n",
    "            index_dict1[letters[n-i]][n-i+m]='-'\n",
    "        for j in range(0,count):\n",
    "            index_dict[letters[n-i]].remove('-')\n",
    "            index_dict1[letters[n-i]].remove('-')\n",
    "            \n",
    "for i in range(0,n):\n",
    "    for j in range(i,n*2-1-i):\n",
    "        dlist[j][index_dict[letters[n-i-1]][j-i]]=letters[n-i-1]\n",
    "        dlist[j][index_dict1[letters[n-i-1]][j-i]]=letters[n-i-1]\n",
    "        \n",
    "for j in range(n*2-1):\n",
    "    print(''.join(list(str(i) if str(i).isalpha() else '-' for i in dlist[j])))"
   ]
  },
  {
   "cell_type": "markdown",
   "metadata": {},
   "source": [
    "## That's great keep on ✨"
   ]
  }
 ],
 "metadata": {
  "kernelspec": {
   "display_name": "Python 3",
   "language": "python",
   "name": "python3"
  },
  "language_info": {
   "codemirror_mode": {
    "name": "ipython",
    "version": 3
   },
   "file_extension": ".py",
   "mimetype": "text/x-python",
   "name": "python",
   "nbconvert_exporter": "python",
   "pygments_lexer": "ipython3",
   "version": "3.8.5"
  }
 },
 "nbformat": 4,
 "nbformat_minor": 4
}
