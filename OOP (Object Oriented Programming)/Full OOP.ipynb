{
 "cells": [
  {
   "cell_type": "markdown",
   "metadata": {},
   "source": [
    "<html>\n",
    "<body>\n",
    "<div align=\"center\">\n",
    "<h3>Prepared by Omar Mahmoud</h3>\n",
    "    \n",
    "<h1>Full OOP</h1>\n",
    "\n",
    "<h3>Note: This repository is for a personal Reference and study</h3>\n",
    "\n",
    "<h3>Follow Me on - <a href=\"https://www.linkedin.com/in/omar-mahmoud-5bb616175/\">LinkedIn</a>&nbsp; <a href=\"https://twitter.com/OmarMah25544092\">Twitter</a>&nbsp; <a href=\"https://www.instagram.com/3amory99/\">Instagram</a>&nbsp; <a href=\"https://www.facebook.com/Mora898/\">Facebook</a></h3>\n",
    "</div>\n",
    "\n",
    "</div>\n",
    "</body>\n",
    "</html>"
   ]
  },
  {
   "cell_type": "markdown",
   "metadata": {},
   "source": [
    "### OOP : Object Oriented Programming \n",
    "### OOP :\n",
    "* **Is a style of programming**\n",
    "* **Instead of wrinting what to do sequential line by line code, your code is organized based on **`Objects`****"
   ]
  },
  {
   "cell_type": "markdown",
   "metadata": {},
   "source": [
    "## Content\n",
    "* Objects and classes\n",
    "* Attributes\n",
    "* Methods\n",
    "* Data Hiding (Encapsulation)\n",
    "* __ to assign a private objects\n",
    "    * Setter and Getter\n",
    "* Inheritance\n",
    "* Method Overriding\n",
    "* Method Overloading\n",
    "* Multiple Inheritance\n",
    "* Multilevel Inheritance\n",
    "* Polymorphism\n",
    "* Static Variables and Methods"
   ]
  },
  {
   "cell_type": "markdown",
   "metadata": {},
   "source": [
    "### Class and Objects 📌\n",
    "- A **`Class`** is an object constructor or a \"blueprint\" for creating objects.\n",
    "- To create a **`Class`** we use the keyword class.\n",
    "- All classes have a function called **`____init____()`** which is always executed when the class is being initiated. \n",
    "- We can use **`____init____()`** function to assign values to object properties or other operations that are necessary to perform when the object is being created\n",
    "- The **`self`** parameter is a reference to the `current instance` of the class and is used to access class variables.\n",
    "- **`self`** must be the first parameter of any function in the class\n",
    "- **`Objects`** are basically groups of data, variables and functions that all are related\n",
    "- **`Objects`** get their variables and functions from classes.\n",
    "- The **`super()`** builtin function returns a `temporary object` of the superclass that allows us to access methods of the base class.\n",
    "\n",
    "- **`super()`** allows us to avoid using the base class name explicitly and to enable multiple inheritance."
   ]
  },
  {
   "cell_type": "code",
   "execution_count": 3,
   "metadata": {},
   "outputs": [],
   "source": [
    "# Create a new class called sa\n",
    "class MyClass:\n",
    "    pass\n",
    "obj = MyClass()"
   ]
  },
  {
   "cell_type": "code",
   "execution_count": 7,
   "metadata": {},
   "outputs": [
    {
     "name": "stdout",
     "output_type": "stream",
     "text": [
      "<class '__main__.MyClass'>\n"
     ]
    }
   ],
   "source": [
    "print(type(obj))"
   ]
  },
  {
   "cell_type": "code",
   "execution_count": 6,
   "metadata": {},
   "outputs": [
    {
     "name": "stdout",
     "output_type": "stream",
     "text": [
      "['__class__', '__delattr__', '__dict__', '__dir__', '__doc__', '__eq__', '__format__', '__ge__', '__getattribute__', '__gt__', '__hash__', '__init__', '__init_subclass__', '__le__', '__lt__', '__module__', '__ne__', '__new__', '__reduce__', '__reduce_ex__', '__repr__', '__setattr__', '__sizeof__', '__str__', '__subclasshook__', '__weakref__']\n"
     ]
    }
   ],
   "source": [
    "print(dir(obj))"
   ]
  },
  {
   "cell_type": "code",
   "execution_count": 8,
   "metadata": {},
   "outputs": [
    {
     "data": {
      "text/plain": [
       "10"
      ]
     },
     "execution_count": 8,
     "metadata": {},
     "output_type": "execute_result"
    }
   ],
   "source": [
    "class MyClass:\n",
    "    var = 10\n",
    "obj = MyClass()\n",
    "obj.var"
   ]
  },
  {
   "cell_type": "markdown",
   "metadata": {},
   "source": [
    "### Attribute\n",
    "- An **`attribute`** is a characteristic of an object. A method is an operation we can perform with the object."
   ]
  },
  {
   "cell_type": "code",
   "execution_count": 2,
   "metadata": {},
   "outputs": [
    {
     "name": "stdout",
     "output_type": "stream",
     "text": [
      "Name :  Omar\n",
      "Id :  123\n",
      "Hello Omar! you are welcome in our tutorial your code id is 123, thanks\n"
     ]
    }
   ],
   "source": [
    "class Employee:\n",
    "    # __init__() function is used to assign values for name and empid\n",
    "    def __init__(self, name, id):\n",
    "        self.name = name\n",
    "        self.id = id\n",
    "        \n",
    "    def greeting(self):\n",
    "        print(\"Hello {}! you are welcome in our tutorial your code id is {}, thanks\".format(self.name,self.id))\n",
    "\n",
    "obj = Employee('Omar', '123')\n",
    "#obj = Employee(name = 'Omar', id = '123')\n",
    "print(\"Name : \",obj.name)\n",
    "print(\"Id : \",obj.id)\n",
    "obj.greeting()"
   ]
  },
  {
   "cell_type": "code",
   "execution_count": 3,
   "metadata": {},
   "outputs": [],
   "source": [
    "# Update and modify Object Properties\n",
    "obj.name = 'Karim'\n",
    "obj.id = 555"
   ]
  },
  {
   "cell_type": "code",
   "execution_count": 4,
   "metadata": {},
   "outputs": [
    {
     "name": "stdout",
     "output_type": "stream",
     "text": [
      "Name :  Karim\n",
      "Id :  555\n",
      "Hello Karim! you are welcome in our tutorial your code id is 555, thanks\n"
     ]
    }
   ],
   "source": [
    "print(\"Name : \",obj.name)\n",
    "print(\"Id : \",obj.id)\n",
    "obj.greeting()"
   ]
  },
  {
   "cell_type": "code",
   "execution_count": 5,
   "metadata": {},
   "outputs": [],
   "source": [
    "class Car:\n",
    "    \n",
    "    # Class Object Attribute or Static Attribute\n",
    "    speed = 240\n",
    "    \n",
    "    def __init__(self,color,model):\n",
    "        self.color = color\n",
    "        self.model = model "
   ]
  },
  {
   "cell_type": "markdown",
   "metadata": {},
   "source": [
    "obj1 = Car('Blue','BMW')\n",
    "obj2 = Car(color='Red', model='Marcedec')"
   ]
  },
  {
   "cell_type": "code",
   "execution_count": 7,
   "metadata": {},
   "outputs": [
    {
     "data": {
      "text/plain": [
       "'Blue'"
      ]
     },
     "execution_count": 7,
     "metadata": {},
     "output_type": "execute_result"
    }
   ],
   "source": [
    "obj1.color"
   ]
  },
  {
   "cell_type": "code",
   "execution_count": 8,
   "metadata": {},
   "outputs": [
    {
     "data": {
      "text/plain": [
       "'BMW'"
      ]
     },
     "execution_count": 8,
     "metadata": {},
     "output_type": "execute_result"
    }
   ],
   "source": [
    "obj1.model"
   ]
  },
  {
   "cell_type": "code",
   "execution_count": 9,
   "metadata": {},
   "outputs": [
    {
     "data": {
      "text/plain": [
       "240"
      ]
     },
     "execution_count": 9,
     "metadata": {},
     "output_type": "execute_result"
    }
   ],
   "source": [
    "# Still the same value\n",
    "obj1.speed"
   ]
  },
  {
   "cell_type": "code",
   "execution_count": 10,
   "metadata": {},
   "outputs": [
    {
     "data": {
      "text/plain": [
       "'Red'"
      ]
     },
     "execution_count": 10,
     "metadata": {},
     "output_type": "execute_result"
    }
   ],
   "source": [
    "obj2.color"
   ]
  },
  {
   "cell_type": "code",
   "execution_count": 11,
   "metadata": {},
   "outputs": [
    {
     "data": {
      "text/plain": [
       "'Marcedec'"
      ]
     },
     "execution_count": 11,
     "metadata": {},
     "output_type": "execute_result"
    }
   ],
   "source": [
    "obj2.model"
   ]
  },
  {
   "cell_type": "code",
   "execution_count": 12,
   "metadata": {},
   "outputs": [
    {
     "data": {
      "text/plain": [
       "240"
      ]
     },
     "execution_count": 12,
     "metadata": {},
     "output_type": "execute_result"
    }
   ],
   "source": [
    "# Still the same value\n",
    "obj2.speed"
   ]
  },
  {
   "cell_type": "markdown",
   "metadata": {},
   "source": [
    "## Methods"
   ]
  },
  {
   "cell_type": "code",
   "execution_count": 38,
   "metadata": {},
   "outputs": [],
   "source": [
    "class Circle:\n",
    "    bi = 3.14\n",
    "    def __init__(self,raduis):\n",
    "        self.raduis = raduis\n",
    "        \n",
    "    def getArea(self):\n",
    "        return self.bi * (self.raduis**2)\n",
    "    def getCircumference(self):\n",
    "        return 2 * self.bi * self.raduis"
   ]
  },
  {
   "cell_type": "code",
   "execution_count": 39,
   "metadata": {},
   "outputs": [
    {
     "name": "stdout",
     "output_type": "stream",
     "text": [
      "3.14\n",
      "706.5\n",
      "94.2\n"
     ]
    }
   ],
   "source": [
    "circle = Circle(15)\n",
    "print(circle.bi)\n",
    "print(circle.getArea())\n",
    "print(circle.getCircumference())"
   ]
  },
  {
   "cell_type": "code",
   "execution_count": 48,
   "metadata": {},
   "outputs": [
    {
     "name": "stdout",
     "output_type": "stream",
     "text": [
      "200\n"
     ]
    }
   ],
   "source": [
    "circle = Circle(200)\n",
    "circle.radius = 200\n",
    "print(circle.radius)"
   ]
  },
  {
   "cell_type": "code",
   "execution_count": 49,
   "metadata": {},
   "outputs": [
    {
     "name": "stdout",
     "output_type": "stream",
     "text": [
      "125600.0\n",
      "1256.0\n"
     ]
    }
   ],
   "source": [
    "print(circle.getArea())\n",
    "print(circle.getCircumference())"
   ]
  },
  {
   "cell_type": "code",
   "execution_count": 51,
   "metadata": {},
   "outputs": [],
   "source": [
    "class Rectangle:\n",
    "    \n",
    "    def __init__(self, width=1, height=1):\n",
    "        self.width = width\n",
    "        self.height = height\n",
    "        print(f'Width is: {self.width} and Height is {self.height}')\n",
    "      \n",
    "    def getPerimeter(self):\n",
    "        return (self.height + self.width) * 2\n",
    "    \n",
    "    def getArea(self):\n",
    "        return self.height * self.width\n",
    "    \n",
    "    def getHeightAndWidth(self):\n",
    "        return self.height, self.width"
   ]
  },
  {
   "cell_type": "code",
   "execution_count": 52,
   "metadata": {},
   "outputs": [
    {
     "name": "stdout",
     "output_type": "stream",
     "text": [
      "Width is: 1 and Height is 1\n",
      "4\n"
     ]
    }
   ],
   "source": [
    "rect1 = Rectangle()\n",
    "print(rect1.getPerimeter())"
   ]
  },
  {
   "cell_type": "code",
   "execution_count": 53,
   "metadata": {},
   "outputs": [
    {
     "name": "stdout",
     "output_type": "stream",
     "text": [
      "Width is: 10 and Height is 20\n",
      "60\n"
     ]
    }
   ],
   "source": [
    "rect1 = Rectangle(10,20)\n",
    "print(rect1.getPerimeter())"
   ]
  },
  {
   "cell_type": "code",
   "execution_count": 54,
   "metadata": {},
   "outputs": [
    {
     "data": {
      "text/plain": [
       "10"
      ]
     },
     "execution_count": 54,
     "metadata": {},
     "output_type": "execute_result"
    }
   ],
   "source": [
    "rect1.width"
   ]
  },
  {
   "cell_type": "code",
   "execution_count": 55,
   "metadata": {},
   "outputs": [
    {
     "data": {
      "text/plain": [
       "20"
      ]
     },
     "execution_count": 55,
     "metadata": {},
     "output_type": "execute_result"
    }
   ],
   "source": [
    "rect1.height\n"
   ]
  },
  {
   "cell_type": "code",
   "execution_count": 57,
   "metadata": {},
   "outputs": [
    {
     "data": {
      "text/plain": [
       "(20, 10)"
      ]
     },
     "execution_count": 57,
     "metadata": {},
     "output_type": "execute_result"
    }
   ],
   "source": [
    "rect1.getHeightAndWidth()"
   ]
  },
  {
   "cell_type": "code",
   "execution_count": 59,
   "metadata": {},
   "outputs": [
    {
     "data": {
      "text/plain": [
       "200"
      ]
     },
     "execution_count": 59,
     "metadata": {},
     "output_type": "execute_result"
    }
   ],
   "source": [
    "rect1.getArea()"
   ]
  },
  {
   "cell_type": "markdown",
   "metadata": {},
   "source": [
    "## Encapsulation\n",
    "* **Encapsulation is one of the four fundamental concepts in object-oriented programming including abstraction, encapsulation, inheritance, and polymorphism.**\n",
    "* **Prefix an attribute with a single underscore (_) to make it private by convention.**\n",
    "* **Prefix an attribute with double underscores (__) to use the name mangling.**"
   ]
  },
  {
   "cell_type": "code",
   "execution_count": 60,
   "metadata": {},
   "outputs": [],
   "source": [
    "class Counter:\n",
    "    def __init__(self):\n",
    "        self.current = 0\n",
    "\n",
    "    def increment(self):\n",
    "        self.current += 1\n",
    "\n",
    "    def value(self):\n",
    "        return self.current\n",
    "\n",
    "    def reset(self):\n",
    "        self.current = 0"
   ]
  },
  {
   "cell_type": "code",
   "execution_count": 61,
   "metadata": {},
   "outputs": [
    {
     "data": {
      "text/plain": [
       "6"
      ]
     },
     "execution_count": 61,
     "metadata": {},
     "output_type": "execute_result"
    }
   ],
   "source": [
    "counter = Counter()\n",
    "\n",
    "counter.increment()\n",
    "counter.increment()\n",
    "counter.increment()\n",
    "counter.increment()\n",
    "counter.increment()\n",
    "counter.increment()\n",
    "\n",
    "counter.value()"
   ]
  },
  {
   "cell_type": "code",
   "execution_count": 63,
   "metadata": {},
   "outputs": [
    {
     "data": {
      "text/plain": [
       "0"
      ]
     },
     "execution_count": 63,
     "metadata": {},
     "output_type": "execute_result"
    }
   ],
   "source": [
    "counter.reset()\n",
    "counter.value()"
   ]
  },
  {
   "cell_type": "code",
   "execution_count": 64,
   "metadata": {},
   "outputs": [
    {
     "data": {
      "text/plain": [
       "-999"
      ]
     },
     "execution_count": 64,
     "metadata": {},
     "output_type": "execute_result"
    }
   ],
   "source": [
    "counter.current = -999\n",
    "counter.value()"
   ]
  },
  {
   "cell_type": "markdown",
   "metadata": {},
   "source": [
    "### Private attributes\n",
    "* Python doesn’t have a concept of private attributes. In other words, all attributes are accessible from the outside of a class."
   ]
  },
  {
   "cell_type": "code",
   "execution_count": 65,
   "metadata": {},
   "outputs": [],
   "source": [
    "class Counter:\n",
    "    def __init__(self):\n",
    "        self.__current = 0\n",
    "\n",
    "    def increment(self):\n",
    "        self.__current += 1\n",
    "\n",
    "    def value(self):\n",
    "        return self.__current\n",
    "\n",
    "    def reset(self):\n",
    "        self.__current = 0\n"
   ]
  },
  {
   "cell_type": "code",
   "execution_count": 66,
   "metadata": {},
   "outputs": [
    {
     "ename": "AttributeError",
     "evalue": "'Counter' object has no attribute '__current'",
     "output_type": "error",
     "traceback": [
      "\u001b[1;31m---------------------------------------------------------------------------\u001b[0m",
      "\u001b[1;31mAttributeError\u001b[0m                            Traceback (most recent call last)",
      "\u001b[1;32m<ipython-input-66-703c4d53c0ce>\u001b[0m in \u001b[0;36m<module>\u001b[1;34m\u001b[0m\n\u001b[0;32m      1\u001b[0m \u001b[0mcounter\u001b[0m \u001b[1;33m=\u001b[0m \u001b[0mCounter\u001b[0m\u001b[1;33m(\u001b[0m\u001b[1;33m)\u001b[0m\u001b[1;33m\u001b[0m\u001b[1;33m\u001b[0m\u001b[0m\n\u001b[1;32m----> 2\u001b[1;33m \u001b[0mprint\u001b[0m\u001b[1;33m(\u001b[0m\u001b[0mcounter\u001b[0m\u001b[1;33m.\u001b[0m\u001b[0m__current\u001b[0m\u001b[1;33m)\u001b[0m\u001b[1;33m\u001b[0m\u001b[1;33m\u001b[0m\u001b[0m\n\u001b[0m",
      "\u001b[1;31mAttributeError\u001b[0m: 'Counter' object has no attribute '__current'"
     ]
    }
   ],
   "source": [
    "counter = Counter()\n",
    "print(counter.__current)"
   ]
  },
  {
   "cell_type": "code",
   "execution_count": 69,
   "metadata": {},
   "outputs": [
    {
     "name": "stdout",
     "output_type": "stream",
     "text": [
      "0\n"
     ]
    }
   ],
   "source": [
    "counter = Counter()\n",
    "print(counter._Counter__current)"
   ]
  },
  {
   "cell_type": "markdown",
   "metadata": {},
   "source": [
    "### Setter and Getter"
   ]
  },
  {
   "cell_type": "code",
   "execution_count": 70,
   "metadata": {},
   "outputs": [],
   "source": [
    "class Circle:\n",
    "    pi = 3.14\n",
    "\n",
    "    def __init__(self, radius=1):\n",
    "        # Handling radius input\n",
    "        if type(radius) == int:\n",
    "            self.__radius = radius\n",
    "        else:\n",
    "            self.__radius = 1\n",
    "            \n",
    "        \n",
    "    # Setter\n",
    "    def set_radius(self, new_radius):\n",
    "        if type(new_radius) == int:\n",
    "            self.__radius = new_radius\n",
    "        else:\n",
    "            print('this is not an interger')\n",
    "    \n",
    "    \n",
    "    # Getter\n",
    "    def get_radius(self):\n",
    "        print(f'the radius is: {self.__radius}')\n",
    "\n",
    "        \n",
    "    def get_area(self):\n",
    "        return self.__radius * self.__radius * self.pi\n",
    "\n",
    "    def get_circumference(self):\n",
    "        return self.__radius * self.pi * 2"
   ]
  },
  {
   "cell_type": "code",
   "execution_count": 75,
   "metadata": {},
   "outputs": [
    {
     "name": "stdout",
     "output_type": "stream",
     "text": [
      "the radius is: 1\n",
      "3.14\n",
      "6.28\n"
     ]
    }
   ],
   "source": [
    "circle = Circle()\n",
    "circle.get_radius()\n",
    "print(circle.get_area())\n",
    "print(circle.get_circumference())"
   ]
  },
  {
   "cell_type": "code",
   "execution_count": 83,
   "metadata": {},
   "outputs": [
    {
     "name": "stdout",
     "output_type": "stream",
     "text": [
      "the radius is: 7\n",
      "153.86\n",
      "43.96\n"
     ]
    }
   ],
   "source": [
    "circle = Circle(7)\n",
    "circle.get_radius()\n",
    "print(circle.get_area())\n",
    "print(circle.get_circumference())"
   ]
  },
  {
   "cell_type": "markdown",
   "metadata": {},
   "source": [
    "# Inheritance\n",
    "* **`Inheritance`** is a powerful feature in object oriented programming.\n",
    "* **`Inheritance`** provides code reusability in the program because we can use an existing class (Super Class/ Parent Class / Base Class) to create a new class (Sub Class / Child Class / Derived Class) instead of creating it from scratch.\n",
    "- The child class inherits **`extend`** data definitions and methods from the parent class which facilitates the reuse of features already available. The child class can add few more definitions or redefine a base class method.\n",
    "- **` super()`** builtin function allows us to access methods of the base class.\n",
    "\n"
   ]
  },
  {
   "cell_type": "code",
   "execution_count": 7,
   "metadata": {},
   "outputs": [],
   "source": [
    "# Parent Class\n",
    "class Person:   \n",
    "    def __init__(self, name , age , gender):\n",
    "        self.name = name\n",
    "        self.age = age\n",
    "        self.gender = gender\n",
    "    \n",
    "    def PersonInfo(self):\n",
    "        print('Name :- {}'.format(self.name))\n",
    "        print('Age :- {}'.format(self.age))\n",
    "        print('Gender :- {}'.format(self.gender))\n"
   ]
  },
  {
   "cell_type": "code",
   "execution_count": 6,
   "metadata": {},
   "outputs": [],
   "source": [
    "# Child Class\n",
    "class Student(Person): \n",
    "    def __init__(self,name,age,gender,studentid,fees):\n",
    "        Person.__init__(self,name,age,gender)\n",
    "        self.studentid = studentid\n",
    "        self.fees = fees\n",
    "    \n",
    "    def StudentInfo(self):\n",
    "        print('Student ID :- {}'.format(self.studentid))\n",
    "        print('Fees :- {}'.format(self.fees))\n",
    "        "
   ]
  },
  {
   "cell_type": "code",
   "execution_count": 8,
   "metadata": {},
   "outputs": [],
   "source": [
    "# Child Class\n",
    "class Teacher(Person):\n",
    "    def __init__(self,name,age,gender,empid,salary):\n",
    "        Person.__init__(self,name,age,gender)\n",
    "        self.empid = empid\n",
    "        self.salary = salary\n",
    "    \n",
    "    def TeacherInfo(self):\n",
    "        print('Employee ID :- {}'.format(self.empid))\n",
    "        print('Salary :- {}'.format(self.salary))\n"
   ]
  },
  {
   "cell_type": "code",
   "execution_count": 11,
   "metadata": {},
   "outputs": [
    {
     "name": "stdout",
     "output_type": "stream",
     "text": [
      "Student Details\n",
      "---------------\n",
      "Name :- Omar\n",
      "Age :- 23\n",
      "Gender :- Male\n",
      "---------------\n",
      "Student ID :- 123\n",
      "Fees :- 1200\n"
     ]
    }
   ],
   "source": [
    "# PersonInfo() method presnt in Parent Class will be accessible by child class\n",
    "student = Student('Omar' , 23 , 'Male' , 123 , 1200)\n",
    "print('Student Details')\n",
    "print('---------------')\n",
    "student.PersonInfo()    \n",
    "print('---------------')\n",
    "student.StudentInfo()"
   ]
  },
  {
   "cell_type": "code",
   "execution_count": 13,
   "metadata": {},
   "outputs": [
    {
     "name": "stdout",
     "output_type": "stream",
     "text": [
      "Employee Details\n",
      "---------------\n",
      "Name :- Mohamed\n",
      "Age :- 36\n",
      "Gender :- Male\n",
      "---------------\n",
      "Employee ID :- 456\n",
      "Salary :- 8000\n"
     ]
    }
   ],
   "source": [
    "# PersonInfo() method presnt in Parent Class will be accessible by child class\n",
    "teacher = Teacher('Mohamed' , 36 , 'Male' , 456 , 8000)\n",
    "print('Employee Details')\n",
    "print('---------------')\n",
    "teacher.PersonInfo() \n",
    "print('---------------')\n",
    "teacher.TeacherInfo()"
   ]
  },
  {
   "cell_type": "markdown",
   "metadata": {},
   "source": [
    "### super()\n",
    "\n",
    "- ##### super() builtin function allows us to access methods of the base class.\n"
   ]
  },
  {
   "cell_type": "code",
   "execution_count": 14,
   "metadata": {},
   "outputs": [],
   "source": [
    "# Parent Class\n",
    "class Person:   \n",
    "    def __init__(self, name , age , gender):\n",
    "        self.name = name\n",
    "        self.age = age\n",
    "        self.gender = gender\n",
    "    \n",
    "    def PersonInfo(self):\n",
    "        print('Name :- {}'.format(self.name))\n",
    "        print('Age :- {}'.format(self.age))\n",
    "        print('Gender :- {}'.format(self.gender))\n"
   ]
  },
  {
   "cell_type": "code",
   "execution_count": 18,
   "metadata": {},
   "outputs": [],
   "source": [
    "# Child Class\n",
    "class Teacher(Person):\n",
    "    def __init__(self,name,age,gender,empid,salary):\n",
    "        super().__init__(name,age,gender)\n",
    "        self.empid = empid\n",
    "        self.salary = salary\n",
    "    \n",
    "    def TeacherInfo(self):\n",
    "        print('Employee ID :- {}'.format(self.empid))\n",
    "        print('Salary :- {}'.format(self.salary))\n"
   ]
  },
  {
   "cell_type": "code",
   "execution_count": 20,
   "metadata": {},
   "outputs": [
    {
     "name": "stdout",
     "output_type": "stream",
     "text": [
      "Employee Details\n",
      "---------------\n",
      "Name :- Karim\n",
      "Age :- 40\n",
      "Gender :- Male\n",
      "---------------\n",
      "Employee ID :- 100\n",
      "Salary :- 5000\n"
     ]
    }
   ],
   "source": [
    "# PersonInfo() method presnt in Parent Class will be accessible by child class\n",
    "teacher = Teacher('Karim' , 40 , 'Male' , 100 , 5000)\n",
    "print('Employee Details')\n",
    "print('---------------')\n",
    "teacher.PersonInfo() \n",
    "print('---------------')\n",
    "teacher.TeacherInfo()"
   ]
  },
  {
   "cell_type": "code",
   "execution_count": 21,
   "metadata": {},
   "outputs": [],
   "source": [
    "class Rectangle:\n",
    "    \n",
    "    def __init__(self, width, height):\n",
    "        self.width = width\n",
    "        self.height = height\n",
    "        print(f'Width is: {self.width} and Height is {self.height}')\n",
    "      \n",
    "    def getPerimeter(self):\n",
    "        return (self.height + self.width) * 2\n",
    "    \n",
    "    def __getArea(self):\n",
    "        return self.height * self.width\n",
    "    \n",
    "    def getHeightAndWidth(self):\n",
    "        return self.height, self.width"
   ]
  },
  {
   "cell_type": "code",
   "execution_count": 34,
   "metadata": {},
   "outputs": [
    {
     "name": "stdout",
     "output_type": "stream",
     "text": [
      "Width is: 5 and Height is 10\n"
     ]
    },
    {
     "data": {
      "text/plain": [
       "30"
      ]
     },
     "execution_count": 34,
     "metadata": {},
     "output_type": "execute_result"
    }
   ],
   "source": [
    "obj = Rectangle(5,10)\n",
    "obj.getPerimeter()"
   ]
  },
  {
   "cell_type": "code",
   "execution_count": 35,
   "metadata": {},
   "outputs": [
    {
     "data": {
      "text/plain": [
       "(10, 5)"
      ]
     },
     "execution_count": 35,
     "metadata": {},
     "output_type": "execute_result"
    }
   ],
   "source": [
    "obj.getHeightAndWidth()"
   ]
  },
  {
   "cell_type": "code",
   "execution_count": 32,
   "metadata": {},
   "outputs": [],
   "source": [
    "# Private Method\n",
    "obj.getArea()"
   ]
  },
  {
   "cell_type": "code",
   "execution_count": 33,
   "metadata": {},
   "outputs": [
    {
     "data": {
      "text/plain": [
       "50"
      ]
     },
     "execution_count": 33,
     "metadata": {},
     "output_type": "execute_result"
    }
   ],
   "source": [
    "#You can call it by this way\n",
    "obj._Rectangle__getArea()"
   ]
  },
  {
   "cell_type": "markdown",
   "metadata": {},
   "source": [
    "### Method Overriding\n",
    "\n",
    "- **`Overriding`** *is a very important part of object oreinted programming because it makes inheritance exploit its full power.*\n",
    "- **`Overriding`** *is the ability of a class (Sub Class / Child Class / Derived Class) to change the implementation of a method provided by one of its parent classes.*\n",
    "- *The version of a method that is executed will be determined by the object that is used to invoke it.*\n",
    "* *If an object of a parent class is used to invoke the method, then the version in the parent class will be executed, but if an object of the subclass is used to invoke the method, then the version in the child class will be executed.*\n",
    "- *When a method in a subclass has the same name, same parameter and same return type as a method in its super-class, then the method in the subclass is said to override the method in the super-class.*"
   ]
  },
  {
   "cell_type": "code",
   "execution_count": 3,
   "metadata": {},
   "outputs": [],
   "source": [
    "class Person:   # Parent Class\n",
    "    def __init__(self, name , age , gender):\n",
    "        self.name = name\n",
    "        self.age = age\n",
    "        self.gender = gender\n",
    "        \n",
    "    def greet(self):\n",
    "        print(\"Hello Parent\")\n",
    "        "
   ]
  },
  {
   "cell_type": "code",
   "execution_count": 4,
   "metadata": {},
   "outputs": [],
   "source": [
    "class Student(Person): # Child Class\n",
    "    def __init__(self,name,age,gender,studentid,fees):\n",
    "        Person.__init__(self,name,age,gender)\n",
    "        # or\n",
    "        # super().__init__(self,name,age,gender)\n",
    "        self.studentid = studentid\n",
    "        self.fees = fees\n",
    "\n",
    "    def greet(self):\n",
    "        print(\"Hello Child\")"
   ]
  },
  {
   "cell_type": "code",
   "execution_count": 8,
   "metadata": {},
   "outputs": [
    {
     "name": "stdout",
     "output_type": "stream",
     "text": [
      "Hello Child\n"
     ]
    }
   ],
   "source": [
    "obj = Student(\"OMAR\",23,'MALE',10,4000)\n",
    "obj.greet()"
   ]
  },
  {
   "cell_type": "code",
   "execution_count": 9,
   "metadata": {},
   "outputs": [
    {
     "name": "stdout",
     "output_type": "stream",
     "text": [
      "Hello Parent\n"
     ]
    }
   ],
   "source": [
    "new_obj = Person(\"OMAR\",23,'MALE')\n",
    "new_obj.greet()"
   ]
  },
  {
   "cell_type": "markdown",
   "metadata": {},
   "source": [
    "### Container\n",
    "\n",
    "* Containers are data structures that hold data values.\n",
    "- Examples of containers include tuple, list, set, dict, str\n",
    "- Generally containers provide a way to access the contained objects and to iterate over them.\n"
   ]
  },
  {
   "cell_type": "code",
   "execution_count": 11,
   "metadata": {},
   "outputs": [
    {
     "data": {
      "text/plain": [
       "True"
      ]
     },
     "execution_count": 11,
     "metadata": {},
     "output_type": "execute_result"
    }
   ],
   "source": [
    "l = ['Omar' , 'Bakr' , 'Ali' , 'Karim']\n",
    "\n",
    "'Ali' in l"
   ]
  },
  {
   "cell_type": "code",
   "execution_count": 12,
   "metadata": {},
   "outputs": [
    {
     "data": {
      "text/plain": [
       "False"
      ]
     },
     "execution_count": 12,
     "metadata": {},
     "output_type": "execute_result"
    }
   ],
   "source": [
    "'No one' in l"
   ]
  },
  {
   "cell_type": "code",
   "execution_count": 14,
   "metadata": {},
   "outputs": [],
   "source": [
    "# If the condition returns true the program does nothing and move to the next line of code.\n",
    "assert 'Omar' in list1"
   ]
  },
  {
   "cell_type": "code",
   "execution_count": 15,
   "metadata": {},
   "outputs": [
    {
     "ename": "AssertionError",
     "evalue": "",
     "output_type": "error",
     "traceback": [
      "\u001b[1;31m---------------------------------------------------------------------------\u001b[0m",
      "\u001b[1;31mAssertionError\u001b[0m                            Traceback (most recent call last)",
      "\u001b[1;32m<ipython-input-15-835af8b9a5e3>\u001b[0m in \u001b[0;36m<module>\u001b[1;34m\u001b[0m\n\u001b[1;32m----> 1\u001b[1;33m \u001b[1;32massert\u001b[0m \u001b[1;34m'Nothing'\u001b[0m \u001b[1;32min\u001b[0m \u001b[0mlist1\u001b[0m\u001b[1;33m\u001b[0m\u001b[1;33m\u001b[0m\u001b[0m\n\u001b[0m",
      "\u001b[1;31mAssertionError\u001b[0m: "
     ]
    }
   ],
   "source": [
    "# If the condition returns false, Assert will stop the program and throws an AssertionError.\n",
    "assert 'Nothing' in list1"
   ]
  },
  {
   "cell_type": "markdown",
   "metadata": {},
   "source": [
    "## Multi-level Inheritance\n",
    "\n",
    "- *In this type of inheritance, a class can inherit from a child class or derived class.*"
   ]
  },
  {
   "cell_type": "markdown",
   "metadata": {},
   "source": [
    "**Multi-level Inheritance** in image  <img src=\"../multi inheritance.png\" width=500 height=500 />"
   ]
  },
  {
   "cell_type": "code",
   "execution_count": 20,
   "metadata": {},
   "outputs": [],
   "source": [
    "# Parent Class\n",
    "class Person:   \n",
    "    def __init__(self, name , age , gender):\n",
    "        self.name = name\n",
    "        self.age = age\n",
    "        self.gender = gender\n",
    "    \n",
    "    def PersonInfo(self):\n",
    "        print('Name :- {0}'.format(self.name))\n",
    "        print('Age :- {0}'.format(self.age))\n",
    "        print('Gender :- {0}'.format(self.gender))\n"
   ]
  },
  {
   "cell_type": "code",
   "execution_count": 21,
   "metadata": {},
   "outputs": [],
   "source": [
    "# Child Class\n",
    "class Employee(Person): \n",
    "    def __init__(self,name,age,gender,empid,salary):\n",
    "        Person.__init__(self,name,age,gender)\n",
    "        self.empid = empid\n",
    "        self.salary = salary\n",
    "    \n",
    "    def employeeInfo(self):\n",
    "        print('Employee ID :- {}'.format(self.empid))\n",
    "        print('Salary :- {}'.format(self.salary))\n",
    "        "
   ]
  },
  {
   "cell_type": "code",
   "execution_count": 22,
   "metadata": {},
   "outputs": [],
   "source": [
    "# Grand Child Class\n",
    "class Fulltime(Employee): \n",
    "    def __init__(self,name,age,gender,empid,salary,WorkExperience):\n",
    "        Employee.__init__(self,name,age,gender,empid,salary)\n",
    "        self.WorkExperience = WorkExperience\n",
    "    \n",
    "    def FulltimeInfo(self):\n",
    "        print('Work Experience :- {}'.format(self.WorkExperience))\n",
    "        \n",
    "        \n",
    "        \n",
    "# Grand Child Class\n",
    "class Contractual(Employee): \n",
    "    def __init__(self,name,age,gender,empid,salary,ContractExpiry):\n",
    "        Employee.__init__(self,name,age,gender,empid,salary)\n",
    "        self.ContractExpiry = ContractExpiry\n",
    "    \n",
    "    def ContractInfo(self):\n",
    "        print('Contract Expiry :- {}'.format(self.ContractExpiry))\n"
   ]
  },
  {
   "cell_type": "code",
   "execution_count": 25,
   "metadata": {},
   "outputs": [
    {
     "name": "stdout",
     "output_type": "stream",
     "text": [
      "Employee Details\n",
      "****************\n",
      "Name :- Omar\n",
      "Age :- 34\n",
      "Gender :- Male\n",
      "Employee ID :- 456\n",
      "Salary :- 10000 USD\n",
      "Contract Expiry :- 24-11-2021\n"
     ]
    }
   ],
   "source": [
    "print('Employee Details')\n",
    "print('****************')\n",
    "obj= Contractual('Omar' , 34 , 'Male' , 456 , \"10000 USD\",'24-11-2021')\n",
    "obj.PersonInfo()\n",
    "obj.employeeInfo()\n",
    "obj.ContractInfo()"
   ]
  },
  {
   "cell_type": "markdown",
   "metadata": {},
   "source": [
    "## Multiple Inheritance\n",
    "- *Multiple inheritance is a feature in which a class (derived class) can inherit attributes and methods from more than one parent class.*"
   ]
  },
  {
   "cell_type": "markdown",
   "metadata": {},
   "source": [
    "**Multiple Inheritance** in image  <img src=\"../multiple inheritance.png\" width=500 height=500 />"
   ]
  },
  {
   "cell_type": "code",
   "execution_count": 28,
   "metadata": {},
   "outputs": [],
   "source": [
    "# Parent Class\n",
    "class Father:\n",
    "    def __init(self):\n",
    "        self.father_name = str()"
   ]
  },
  {
   "cell_type": "code",
   "execution_count": 29,
   "metadata": {},
   "outputs": [],
   "source": [
    "# Parent Class\n",
    "class Mother:\n",
    "    def __init__(self):\n",
    "        self.mothername = str()"
   ]
  },
  {
   "cell_type": "code",
   "execution_count": 31,
   "metadata": {},
   "outputs": [],
   "source": [
    "class Son(Father,Mother):\n",
    "    name = str()\n",
    "    def show(self):\n",
    "        print('My Name :- ',self.name)\n",
    "        print(\"Father :\", self.fathername)\n",
    "        print(\"Mother :\", self.mothername)"
   ]
  },
  {
   "cell_type": "code",
   "execution_count": 33,
   "metadata": {},
   "outputs": [
    {
     "name": "stdout",
     "output_type": "stream",
     "text": [
      "My Name :-  Omar\n",
      "Father : Mahmoud\n",
      "Mother : xxxxxx\n"
     ]
    }
   ],
   "source": [
    "s1 = Son()\n",
    "s1.name = 'Omar'\n",
    "s1.fathername = \"Mahmoud\"\n",
    "s1.mothername = \"xxxxxx\"\n",
    "s1.show()"
   ]
  },
  {
   "cell_type": "markdown",
   "metadata": {},
   "source": [
    "## Polymorphism\n",
    "* **polymorphism refers to the way in which different object classes can share the same method name, and those methods can be called from the same place even though a variety of different objects might be passed in.**"
   ]
  },
  {
   "cell_type": "code",
   "execution_count": 35,
   "metadata": {},
   "outputs": [],
   "source": [
    "class Dog:\n",
    "    def __init__(self, name):\n",
    "        self.name = name\n",
    "\n",
    "    def speak(self):\n",
    "        return self.name+' says HOWHOOW!'"
   ]
  },
  {
   "cell_type": "code",
   "execution_count": 36,
   "metadata": {},
   "outputs": [],
   "source": [
    "class Cat:\n",
    "    def __init__(self, name):\n",
    "        self.name = name\n",
    "\n",
    "    def speak(self):\n",
    "        return self.name+' says Meooow!' "
   ]
  },
  {
   "cell_type": "code",
   "execution_count": 37,
   "metadata": {},
   "outputs": [],
   "source": [
    "    \n",
    "class Duck:\n",
    "    def __init__(self, name):\n",
    "        self.name = name\n",
    "\n",
    "    def speak(self):\n",
    "        return self.name+' says Wuck wucck!' "
   ]
  },
  {
   "cell_type": "code",
   "execution_count": 42,
   "metadata": {},
   "outputs": [
    {
     "data": {
      "text/plain": [
       "'Nemo says Wuck wucck!'"
      ]
     },
     "execution_count": 42,
     "metadata": {},
     "output_type": "execute_result"
    }
   ],
   "source": [
    "duck = Duck(\"Nemo\")\n",
    "duck.speak()"
   ]
  },
  {
   "cell_type": "code",
   "execution_count": 43,
   "metadata": {},
   "outputs": [
    {
     "data": {
      "text/plain": [
       "'Suzi says Meooow!'"
      ]
     },
     "execution_count": 43,
     "metadata": {},
     "output_type": "execute_result"
    }
   ],
   "source": [
    "cat = Cat(\"Suzi\")\n",
    "cat.speak()"
   ]
  },
  {
   "cell_type": "code",
   "execution_count": 45,
   "metadata": {},
   "outputs": [
    {
     "data": {
      "text/plain": [
       "'Boby says HOWHOOW!'"
      ]
     },
     "execution_count": 45,
     "metadata": {},
     "output_type": "execute_result"
    }
   ],
   "source": [
    "dog =Dog(\"Boby\")\n",
    "dog.speak()"
   ]
  },
  {
   "cell_type": "code",
   "execution_count": 47,
   "metadata": {},
   "outputs": [
    {
     "name": "stdout",
     "output_type": "stream",
     "text": [
      "Nemo says Wuck wucck!\n",
      "Suzi says Meooow!\n",
      "Boby says HOWHOOW!\n"
     ]
    }
   ],
   "source": [
    "for pet in [duck, cat, dog]:\n",
    "    print(pet.speak())"
   ]
  },
  {
   "cell_type": "markdown",
   "metadata": {},
   "source": [
    "## Static Variables\n",
    "Static variables are shared amongst objects of the class."
   ]
  },
  {
   "cell_type": "code",
   "execution_count": 50,
   "metadata": {},
   "outputs": [
    {
     "name": "stdout",
     "output_type": "stream",
     "text": [
      "Shape is of category:  Geometrical\n",
      "And shape is:  Circle\n",
      "\n",
      "\n"
     ]
    }
   ],
   "source": [
    "class Shape:\n",
    "    \n",
    "    # class or static variable \n",
    "    static = 'Geometrical'\n",
    "    \n",
    "    def __init__(self, shape_type):\n",
    "        # attribute\n",
    "        self.shape_type = shape_type\n",
    "    \n",
    "    def display(self):\n",
    "        print('Shape is of category: ', self.static)\n",
    "        print('And shape is: ', self.shape_type)\n",
    "        print('\\n')\n",
    "\n",
    "obj = Shape('Circle')\n",
    "obj.display()"
   ]
  },
  {
   "cell_type": "code",
   "execution_count": 51,
   "metadata": {},
   "outputs": [
    {
     "data": {
      "text/plain": [
       "'Geometrical'"
      ]
     },
     "execution_count": 51,
     "metadata": {},
     "output_type": "execute_result"
    }
   ],
   "source": [
    "obj.static"
   ]
  },
  {
   "cell_type": "markdown",
   "metadata": {},
   "source": [
    "## Static Method\n",
    "- To call a static method we don't need any class object it can be directly called using the class name. **`(bad way)`**\n",
    "- We also can define a static method using the **`@staticmethod`**"
   ]
  },
  {
   "cell_type": "code",
   "execution_count": 61,
   "metadata": {},
   "outputs": [],
   "source": [
    "class Calculator:\n",
    "    \n",
    "    def __init__(self, x, y):\n",
    "        self.x = x\n",
    "        self.y = y\n",
    "        \n",
    "    def sum(self):\n",
    "        return self.x + self.y"
   ]
  },
  {
   "cell_type": "code",
   "execution_count": 62,
   "metadata": {},
   "outputs": [
    {
     "data": {
      "text/plain": [
       "11"
      ]
     },
     "execution_count": 62,
     "metadata": {},
     "output_type": "execute_result"
    }
   ],
   "source": [
    "c1 = Calculator(5,6)\n",
    "c1.sum()"
   ]
  },
  {
   "cell_type": "code",
   "execution_count": 63,
   "metadata": {},
   "outputs": [],
   "source": [
    "class Calculator:\n",
    "    \n",
    "    @staticmethod\n",
    "    def sum(x, y):\n",
    "        return x + y"
   ]
  },
  {
   "cell_type": "code",
   "execution_count": 65,
   "metadata": {},
   "outputs": [
    {
     "data": {
      "text/plain": [
       "11"
      ]
     },
     "execution_count": 65,
     "metadata": {},
     "output_type": "execute_result"
    }
   ],
   "source": [
    "c1 = Calculator()\n",
    "c1.sum(5,6)"
   ]
  },
  {
   "cell_type": "code",
   "execution_count": 67,
   "metadata": {},
   "outputs": [
    {
     "data": {
      "text/plain": [
       "11"
      ]
     },
     "execution_count": 67,
     "metadata": {},
     "output_type": "execute_result"
    }
   ],
   "source": [
    "# or\n",
    "Calculator.sum(5, 6)"
   ]
  },
  {
   "cell_type": "markdown",
   "metadata": {},
   "source": [
    "## That's great keep on ✨"
   ]
  }
 ],
 "metadata": {
  "kernelspec": {
   "display_name": "Python 3",
   "language": "python",
   "name": "python3"
  },
  "language_info": {
   "codemirror_mode": {
    "name": "ipython",
    "version": 3
   },
   "file_extension": ".py",
   "mimetype": "text/x-python",
   "name": "python",
   "nbconvert_exporter": "python",
   "pygments_lexer": "ipython3",
   "version": "3.8.5"
  }
 },
 "nbformat": 4,
 "nbformat_minor": 4
}
