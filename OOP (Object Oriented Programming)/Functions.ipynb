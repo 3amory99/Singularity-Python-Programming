{
 "cells": [
  {
   "cell_type": "markdown",
   "metadata": {},
   "source": [
    "<html>\n",
    "<body>\n",
    "<div align=\"center\">\n",
    "<h3>Prepared by Omar Mahmoud</h3>\n",
    "    \n",
    "<h1>Functions</h1>\n",
    "\n",
    "<h3>Note: This repository is for a personal Reference and study</h3>\n",
    "\n",
    "<h3>Follow Me on - <a href=\"https://www.linkedin.com/in/omar-mahmoud-5bb616175/\">LinkedIn</a>&nbsp; <a href=\"https://twitter.com/OmarMah25544092\">Twitter</a>&nbsp; <a href=\"https://www.instagram.com/3amory99/\">Instagram</a>&nbsp; <a href=\"https://www.facebook.com/Mora898/\">Facebook</a></h3>\n",
    "</div>\n",
    "\n",
    "</div>\n",
    "</body>\n",
    "</html>"
   ]
  },
  {
   "cell_type": "markdown",
   "metadata": {},
   "source": [
    "# Difference between Python Methods vs Functions"
   ]
  },
  {
   "cell_type": "markdown",
   "metadata": {},
   "source": [
    "**Functions Vs Methods** in image  <img src=\"..\\function.jpg\" width=700 height=700 />"
   ]
  },
  {
   "cell_type": "code",
   "execution_count": 15,
   "metadata": {},
   "outputs": [],
   "source": [
    "# self is a keyword that refer to the object  similler to 'this' in java"
   ]
  },
  {
   "cell_type": "markdown",
   "metadata": {},
   "source": [
    "# Fuction"
   ]
  },
  {
   "cell_type": "markdown",
   "metadata": {},
   "source": [
    "* It is a block of organized code written to carry out a specified task.\n",
    "* Info can be passed into a function as arguments.\n",
    "* A function may or may not return data.\n",
    "- We can define it using **`def`** keyword"
   ]
  },
  {
   "cell_type": "markdown",
   "metadata": {},
   "source": [
    "## Function Types\n",
    "* **Built-in function** :- Python predefined functions that are readily available for use like min() , max() , sum() , print() etc.\n",
    "\n",
    "- **User-Defined Functions**:- Function that we define ourselves to perform a specific task.\n",
    "\n",
    "- **Anonymous functions** : Function that is defined without a name. Anonymous functions are also called as **`lambda`** functions. They are not declared with the def keyword.\n",
    "\n"
   ]
  },
  {
   "cell_type": "code",
   "execution_count": 2,
   "metadata": {},
   "outputs": [],
   "source": [
    "def first_function():\n",
    "  print(\"Hello World!\")"
   ]
  },
  {
   "cell_type": "code",
   "execution_count": 3,
   "metadata": {},
   "outputs": [
    {
     "name": "stdout",
     "output_type": "stream",
     "text": [
      "Hello World!\n"
     ]
    }
   ],
   "source": [
    "# We can call this function by typing it with ()\n",
    "\n",
    "first_function()"
   ]
  },
  {
   "cell_type": "code",
   "execution_count": 6,
   "metadata": {},
   "outputs": [],
   "source": [
    "# The nothing function\n",
    "#Takes nothing as arguments and does nothing\n",
    "def nothing():\n",
    "    pass\n",
    "nothing()"
   ]
  },
  {
   "cell_type": "code",
   "execution_count": 8,
   "metadata": {},
   "outputs": [
    {
     "name": "stdout",
     "output_type": "stream",
     "text": [
      "id :  1\n",
      "name :  Omar\n",
      "gender :  Male\n",
      "country :  Egypt\n"
     ]
    }
   ],
   "source": [
    "# Function that print User details\n",
    "def user_info(id, name, gender, country):\n",
    "    print('id : ',id)\n",
    "    print('name : ',name)\n",
    "    print('gender : ',gender)\n",
    "    print('country : ',country)\n",
    "    \n",
    "# We pass user info in the parameters \n",
    "user_info('1','Omar','Male','Egypt')"
   ]
  },
  {
   "cell_type": "code",
   "execution_count": 11,
   "metadata": {},
   "outputs": [
    {
     "name": "stdout",
     "output_type": "stream",
     "text": [
      "Hi dear Omar\n"
     ]
    }
   ],
   "source": [
    "# Fuction that say hi to user with his name\n",
    "def say_hi_to(name): \n",
    "    print(\"Hi dear\", name)\n",
    "\n",
    "name = \"Omar\"\n",
    "say_hi_to(name)\n"
   ]
  },
  {
   "cell_type": "markdown",
   "metadata": {},
   "source": [
    "## Local variables"
   ]
  },
  {
   "cell_type": "code",
   "execution_count": 18,
   "metadata": {},
   "outputs": [
    {
     "name": "stdout",
     "output_type": "stream",
     "text": [
      "Outside before f\n"
     ]
    }
   ],
   "source": [
    "def func(): \n",
    "    print(s)\n",
    "    #s = \"Inside\"           # However, they cannot be changed\n",
    "    #print(s)  #Error\n",
    "    #print(k) #Error\n",
    "    \n",
    "s = \"Outside before f\"\n",
    "func()\n",
    "k = \"Outside after f\""
   ]
  },
  {
   "cell_type": "code",
   "execution_count": 21,
   "metadata": {},
   "outputs": [
    {
     "name": "stdout",
     "output_type": "stream",
     "text": [
      "Outside after f\n"
     ]
    }
   ],
   "source": [
    "def func(): \n",
    "    print(k)\n",
    "    #k = \"Inside\"           # However, they cannot be changed\n",
    "    #print(s)  #Error\n",
    "    #print(k) #Error\n",
    "    \n",
    "s = \"Outside before f\"\n",
    "func()\n",
    "k = \"Outside after f\""
   ]
  },
  {
   "cell_type": "code",
   "execution_count": 22,
   "metadata": {},
   "outputs": [
    {
     "name": "stdout",
     "output_type": "stream",
     "text": [
      "Outside\n",
      "Inside\n",
      "===========\n",
      "Outside\n"
     ]
    }
   ],
   "source": [
    "def func(): \n",
    "    print(k) \n",
    "    s = \"Inside\" \n",
    "    print(s)\n",
    "    print(\"===========\")\n",
    "    \n",
    "k = \"Outside\"\n",
    "s = \"Outside\" \n",
    "func()\n",
    "print(s)"
   ]
  },
  {
   "cell_type": "code",
   "execution_count": 24,
   "metadata": {},
   "outputs": [
    {
     "name": "stdout",
     "output_type": "stream",
     "text": [
      "Outside\n",
      "Inside\n",
      "==========\n",
      "Inside\n"
     ]
    }
   ],
   "source": [
    "def func():\n",
    "    global s # To change external variables inside a function, they must be declared global.\n",
    "    print(s)\n",
    "    s = \"Inside\"\n",
    "    print(s)\n",
    "    print(\"==========\")\n",
    "\n",
    "\n",
    "s = \"Outside\"\n",
    "func()\n",
    "print(s)"
   ]
  },
  {
   "cell_type": "markdown",
   "metadata": {},
   "source": [
    "### Example\n",
    "* **We want to print salaries by month in ascending order, but we don’t want to change the initial data**"
   ]
  },
  {
   "cell_type": "code",
   "execution_count": 31,
   "metadata": {},
   "outputs": [
    {
     "name": "stdout",
     "output_type": "stream",
     "text": [
      "1 : 25000\n",
      "2 : 30000\n",
      "3 : 40000\n",
      "4 : 42000\n"
     ]
    }
   ],
   "source": [
    "salaries = (40000, 30000, 25000, 42000)\n",
    "\n",
    "def order_salaries(salaries):\n",
    "    for i, k in enumerate(sorted(salaries)):\n",
    "        print('{} : {}'.format(i+1, k))\n",
    "\n",
    "order_salaries(salaries)             "
   ]
  },
  {
   "cell_type": "code",
   "execution_count": 32,
   "metadata": {},
   "outputs": [
    {
     "name": "stdout",
     "output_type": "stream",
     "text": [
      "salaries before calling f: [40000, 30000, 25000, 42000]\n",
      "1 salary is 25000\n",
      "2 salary is 30000\n",
      "3 salary is 40000\n",
      "4 salary is 42000\n",
      "salaries after calling f: [25000, 30000, 40000, 42000]\n"
     ]
    }
   ],
   "source": [
    "salaries = [40000, 30000, 25000, 42000]\n",
    "\n",
    "def func(salaries):\n",
    "    salaries.sort()\n",
    "    for (i, salary) in enumerate(salaries):\n",
    "        print(\"{0} salary is {1}\".format(i+1, salary))\n",
    "\n",
    "print(\"salaries before calling function: {0}\".format(salaries))\n",
    "func(salaries)\n",
    "print(\"salaries after calling function: {0}\".format(salaries))"
   ]
  },
  {
   "cell_type": "code",
   "execution_count": null,
   "metadata": {},
   "outputs": [],
   "source": [
    "# function to find square of a number"
   ]
  },
  {
   "cell_type": "code",
   "execution_count": 33,
   "metadata": {},
   "outputs": [
    {
     "data": {
      "text/plain": [
       "4"
      ]
     },
     "execution_count": 33,
     "metadata": {},
     "output_type": "execute_result"
    }
   ],
   "source": [
    "def square(x):\n",
    "    return x**2\n",
    "square(2)"
   ]
  },
  {
   "cell_type": "code",
   "execution_count": 42,
   "metadata": {},
   "outputs": [
    {
     "name": "stdout",
     "output_type": "stream",
     "text": [
      "[2, 4, 6, 8, 10]\n"
     ]
    }
   ],
   "source": [
    "def even_num(x):\n",
    "    evens = []\n",
    "    if x > 0:\n",
    "        for i in range(1, x+1):\n",
    "            if i % 2 == 0:\n",
    "                evens.append(i)\n",
    "    return evens\n",
    "print(even_num(10))"
   ]
  },
  {
   "cell_type": "code",
   "execution_count": 52,
   "metadata": {},
   "outputs": [
    {
     "name": "stdout",
     "output_type": "stream",
     "text": [
      "First name: Omar\n",
      "Last name: Mahmoud\n",
      "Age: 23\n",
      "\n"
     ]
    }
   ],
   "source": [
    "def define_person(first_name, last_name, age):\n",
    "    print(\"First name: %s\" % first_name.title())\n",
    "    print(\"Last name: %s\" % last_name.title())\n",
    "    print(\"Age: %d\\n\" % age)\n",
    "\n",
    "define_person('Omar','Mahmoud',23)"
   ]
  },
  {
   "cell_type": "code",
   "execution_count": 53,
   "metadata": {},
   "outputs": [
    {
     "name": "stdout",
     "output_type": "stream",
     "text": [
      "First name: Omar\n",
      "Last name: Mahmoud\n",
      "Age: 23\n",
      "\n"
     ]
    }
   ],
   "source": [
    "# We can call this by this way\n",
    "define_person(first_name='Omar', last_name='Mahmoud', age=23 )"
   ]
  },
  {
   "cell_type": "code",
   "execution_count": 54,
   "metadata": {},
   "outputs": [
    {
     "name": "stdout",
     "output_type": "stream",
     "text": [
      "First name: Omar\n",
      "Last name: Mahmoud\n",
      "Age: 23\n",
      "\n"
     ]
    }
   ],
   "source": [
    "# And We can also call this by this way\n",
    "define_person(age=23, first_name='Omar', last_name='Mahmoud')"
   ]
  },
  {
   "cell_type": "code",
   "execution_count": 55,
   "metadata": {},
   "outputs": [
    {
     "name": "stdout",
     "output_type": "stream",
     "text": [
      "First name: Omar\n",
      "Last name: Mahmoud\n",
      "Age: 23\n",
      "\n"
     ]
    }
   ],
   "source": [
    "#You can make the age argument optional\n",
    "def describe_person(first_name, last_name, age=23):\n",
    "    print(\"First name: %s\" % first_name.title())\n",
    "    print(\"Last name: %s\" % last_name.title())\n",
    "    print(\"Age: %d\\n\" % age)\n",
    "\n",
    "describe_person(first_name='Omar', last_name='Mahmoud')"
   ]
  },
  {
   "cell_type": "markdown",
   "metadata": {},
   "source": [
    "# args & kwargs\n"
   ]
  },
  {
   "cell_type": "markdown",
   "metadata": {},
   "source": [
    "# *args\n",
    "- **The arguments are always passed as a tuple.**\n",
    "- **We can simply use an asterisk * before the parameter name to pass variable length arguments.**\n",
    "- **We can rename it to anything as long as it is preceded by a single asterisk (*). It's best practice to keep naming it args to make it immediately recognizable.**\n",
    "- ***args allow us to pass the variable number of Non Keyword Arguments to function.**\n"
   ]
  },
  {
   "cell_type": "code",
   "execution_count": 58,
   "metadata": {},
   "outputs": [
    {
     "name": "stdout",
     "output_type": "stream",
     "text": [
      "60\n"
     ]
    }
   ],
   "source": [
    "# Sum of three numbers\n",
    "def add(x,y,z):\n",
    "    return x+y+z\n",
    "    \n",
    "print(add(10,20,30)) "
   ]
  },
  {
   "cell_type": "code",
   "execution_count": 59,
   "metadata": {},
   "outputs": [
    {
     "ename": "TypeError",
     "evalue": "add() takes 3 positional arguments but 4 were given",
     "output_type": "error",
     "traceback": [
      "\u001b[1;31m---------------------------------------------------------------------------\u001b[0m",
      "\u001b[1;31mTypeError\u001b[0m                                 Traceback (most recent call last)",
      "\u001b[1;32m<ipython-input-59-ea555e69f139>\u001b[0m in \u001b[0;36m<module>\u001b[1;34m\u001b[0m\n\u001b[0;32m      2\u001b[0m \u001b[0mthis\u001b[0m \u001b[0mwill\u001b[0m \u001b[0mthrow\u001b[0m \u001b[0mbelow\u001b[0m \u001b[0merror\u001b[0m \u001b[1;32mas\u001b[0m \u001b[0mthis\u001b[0m \u001b[0mfunction\u001b[0m \u001b[0mwill\u001b[0m \u001b[0monly\u001b[0m \u001b[0mtake\u001b[0m \u001b[0mtwo\u001b[0m \u001b[0margumengts\u001b[0m\u001b[1;33m.\u001b[0m\u001b[1;33m\u001b[0m\u001b[1;33m\u001b[0m\u001b[0m\n\u001b[0;32m      3\u001b[0m If we want to make argument list dynamic then *args wil come in picture\"\"\"\n\u001b[1;32m----> 4\u001b[1;33m \u001b[0mprint\u001b[0m\u001b[1;33m(\u001b[0m\u001b[0madd\u001b[0m\u001b[1;33m(\u001b[0m\u001b[1;36m1\u001b[0m\u001b[1;33m,\u001b[0m\u001b[1;36m2\u001b[0m\u001b[1;33m,\u001b[0m\u001b[1;36m3\u001b[0m\u001b[1;33m,\u001b[0m\u001b[1;36m4\u001b[0m\u001b[1;33m)\u001b[0m\u001b[1;33m)\u001b[0m\u001b[1;33m\u001b[0m\u001b[1;33m\u001b[0m\u001b[0m\n\u001b[0m",
      "\u001b[1;31mTypeError\u001b[0m: add() takes 3 positional arguments but 4 were given"
     ]
    }
   ],
   "source": [
    "\"\"\"\"If we pass more than the detected args it will get errors, \n",
    "this will throw below error as this function will only take two argumengts. \n",
    "If we want to make argument list dynamic then *args wil come in picture\"\"\"\n",
    "print(add(1,2,3,4))"
   ]
  },
  {
   "cell_type": "code",
   "execution_count": 71,
   "metadata": {},
   "outputs": [],
   "source": [
    "def add(*args):\n",
    "    return sum(args)"
   ]
  },
  {
   "cell_type": "code",
   "execution_count": 72,
   "metadata": {},
   "outputs": [
    {
     "name": "stdout",
     "output_type": "stream",
     "text": [
      "10\n"
     ]
    }
   ],
   "source": [
    "print(add(1,2,3,4))"
   ]
  },
  {
   "cell_type": "code",
   "execution_count": 73,
   "metadata": {},
   "outputs": [],
   "source": [
    "mylist = [1,2,3,4,5]\n",
    "mytuple = (1,2,3,4,5)"
   ]
  },
  {
   "cell_type": "code",
   "execution_count": 74,
   "metadata": {},
   "outputs": [
    {
     "name": "stdout",
     "output_type": "stream",
     "text": [
      "15\n"
     ]
    }
   ],
   "source": [
    "print(add(*mylist))"
   ]
  },
  {
   "cell_type": "code",
   "execution_count": 75,
   "metadata": {},
   "outputs": [
    {
     "name": "stdout",
     "output_type": "stream",
     "text": [
      "15\n"
     ]
    }
   ],
   "source": [
    "print(add(*mytuple))"
   ]
  },
  {
   "cell_type": "code",
   "execution_count": 80,
   "metadata": {},
   "outputs": [
    {
     "name": "stdout",
     "output_type": "stream",
     "text": [
      "60\n"
     ]
    }
   ],
   "source": [
    "l1 = [1,2,3,4,5]\n",
    "l2 = [1,2,3,4,5]\n",
    "l3 = [1,2,3,4,5]\n",
    "l4 = [1,2,3,4,5]\n",
    "print(add(*l1,*l2,*l3,*l4))"
   ]
  },
  {
   "cell_type": "markdown",
   "metadata": {},
   "source": [
    "# **kwargs\n",
    "\n",
    "- ****`kwargs` allows us to pass the variable number of Keyword Arguments to the function.**\n",
    "- **We can simply use an double asterisk ** before the parameter name to pass variable length arguments.**\n",
    "- **The arguments are passed as a dictionary.**\n",
    "- **We can rename it to anything as long as it is preceded by a double asterisk. It's best practice to keep naming it kwargs to make it immediately recognizable.**\n",
    "\n"
   ]
  },
  {
   "cell_type": "code",
   "execution_count": 2,
   "metadata": {},
   "outputs": [
    {
     "name": "stdout",
     "output_type": "stream",
     "text": [
      "600\n"
     ]
    }
   ],
   "source": [
    "# Normal function print sum of three numbers\n",
    "def add(a,b,c):\n",
    "    return a+b+c\n",
    "    \n",
    "print(add(100,200,300)) "
   ]
  },
  {
   "cell_type": "code",
   "execution_count": 3,
   "metadata": {},
   "outputs": [
    {
     "name": "stdout",
     "output_type": "stream",
     "text": [
      "('Omar', 7412, 41102, 33, 'Egypt', 'Arabic')\n"
     ]
    }
   ],
   "source": [
    "def UserDetails(*args):\n",
    "    print(args)\n",
    "\n",
    "UserDetails('Omar' , 7412 , 41102 , 33 ,  'Egypt' , 'Arabic')"
   ]
  },
  {
   "cell_type": "code",
   "execution_count": 9,
   "metadata": {},
   "outputs": [
    {
     "name": "stdout",
     "output_type": "stream",
     "text": [
      "{'name': 'Omar', 'code': 7412, 'age': 23, 'country': 'Egypt', 'lang': 'Arabic'}\n"
     ]
    }
   ],
   "source": [
    "def UserInfo(**kwargs):\n",
    "    print(kwargs)\n",
    "\n",
    "UserInfo(name = 'Omar' ,code = 7412 ,age = 23 ,country = 'Egypt' ,lang =  'Arabic')"
   ]
  },
  {
   "cell_type": "code",
   "execution_count": 12,
   "metadata": {},
   "outputs": [
    {
     "name": "stdout",
     "output_type": "stream",
     "text": [
      "name : Omar\n",
      "code : 7412\n",
      "age : 23\n",
      "country : Egypt\n",
      "lang : Arabic\n"
     ]
    }
   ],
   "source": [
    "def UserInfo(**kwargs):\n",
    "    for key, value in kwargs.items():\n",
    "        print(\"{} : {}\".format(key,value))\n",
    "\n",
    "UserInfo(name = 'Omar' ,code = 7412 ,age = 23 ,country = 'Egypt' ,lang =  'Arabic')"
   ]
  },
  {
   "cell_type": "code",
   "execution_count": 16,
   "metadata": {},
   "outputs": [
    {
     "name": "stdout",
     "output_type": "stream",
     "text": [
      "name : Omar\n",
      "code : 7412\n",
      "age : 33\n",
      "country : Egypt\n",
      "lang : arabic\n"
     ]
    }
   ],
   "source": [
    "mydict = {'name': 'Omar', 'code': 7412, 'age': 33, 'country': 'Egypt', 'lang': 'arabic'}\n",
    "UserInfo(**mydict)"
   ]
  },
  {
   "cell_type": "markdown",
   "metadata": {},
   "source": [
    "## Using all four arguments types"
   ]
  },
  {
   "cell_type": "code",
   "execution_count": 20,
   "metadata": {},
   "outputs": [
    {
     "name": "stdout",
     "output_type": "stream",
     "text": [
      "License No :-  BHT145\n",
      "Full Name :- Omar Bakr Ali\n",
      "Phone Number:-  1234567890\n",
      "Name :- Omar\n",
      "ID :- 7412\n",
      "Age :- 33\n",
      "Country :- Egypt\n",
      "Language :- Arabic\n"
     ]
    }
   ],
   "source": [
    "def UserInfo(licenseNo,  *args , phoneNo=0 , **kwargs):\n",
    "    print('License No :- ', licenseNo)\n",
    "    j=''\n",
    "    for i in args:\n",
    "        j = j+i\n",
    "    print('Full Name :-',j)\n",
    "    print('Phone Number:- ',phoneNo)\n",
    "    for key,val in kwargs.items():\n",
    "        print(\"{} :- {}\".format(key,val))\n",
    "        \n",
    "        \n",
    "name = ['Omar' , ' ' , 'Bakr' , ' ','Ali']\n",
    "mydict = {'Name': 'Omar', 'ID': 7412, 'Age': 33, 'Country': 'Egypt', 'Language': 'Arabic'}\n",
    "\n",
    "UserInfo('BHT145' , *name , phoneNo=1234567890,**mydict )"
   ]
  },
  {
   "cell_type": "markdown",
   "metadata": {},
   "source": [
    "**This will fail. *args MUST come before **kwargs in the argument list**"
   ]
  },
  {
   "cell_type": "code",
   "execution_count": 23,
   "metadata": {},
   "outputs": [
    {
     "ename": "SyntaxError",
     "evalue": "invalid syntax (<ipython-input-23-58f80fe4775d>, line 1)",
     "output_type": "error",
     "traceback": [
      "\u001b[1;36m  File \u001b[1;32m\"<ipython-input-23-58f80fe4775d>\"\u001b[1;36m, line \u001b[1;32m1\u001b[0m\n\u001b[1;33m    def UserInfo(licenseNo, **kwargs , *args):\u001b[0m\n\u001b[1;37m                                       ^\u001b[0m\n\u001b[1;31mSyntaxError\u001b[0m\u001b[1;31m:\u001b[0m invalid syntax\n"
     ]
    }
   ],
   "source": [
    "def UserInfo(licenseNo, **kwargs , *args):\n",
    "    print('Nothing')"
   ]
  },
  {
   "cell_type": "markdown",
   "metadata": {},
   "source": [
    "**The below function will fail. Default argument/positional argument (licenseNo) MUST come before Keyword argument(ID)**"
   ]
  },
  {
   "cell_type": "code",
   "execution_count": 25,
   "metadata": {},
   "outputs": [
    {
     "ename": "SyntaxError",
     "evalue": "non-default argument follows default argument (<ipython-input-25-d61e4678d1b1>, line 1)",
     "output_type": "error",
     "traceback": [
      "\u001b[1;36m  File \u001b[1;32m\"<ipython-input-25-d61e4678d1b1>\"\u001b[1;36m, line \u001b[1;32m1\u001b[0m\n\u001b[1;33m    def UserDetails(ID = 1, licenseNo, *args):\u001b[0m\n\u001b[1;37m                    ^\u001b[0m\n\u001b[1;31mSyntaxError\u001b[0m\u001b[1;31m:\u001b[0m non-default argument follows default argument\n"
     ]
    }
   ],
   "source": [
    "def UserDetails(ID = 1, licenseNo, *args):\n",
    "    print('Nothing')"
   ]
  },
  {
   "cell_type": "markdown",
   "metadata": {},
   "source": [
    "## That's great keep on ✨"
   ]
  }
 ],
 "metadata": {
  "kernelspec": {
   "display_name": "Python 3",
   "language": "python",
   "name": "python3"
  },
  "language_info": {
   "codemirror_mode": {
    "name": "ipython",
    "version": 3
   },
   "file_extension": ".py",
   "mimetype": "text/x-python",
   "name": "python",
   "nbconvert_exporter": "python",
   "pygments_lexer": "ipython3",
   "version": "3.8.5"
  }
 },
 "nbformat": 4,
 "nbformat_minor": 4
}
