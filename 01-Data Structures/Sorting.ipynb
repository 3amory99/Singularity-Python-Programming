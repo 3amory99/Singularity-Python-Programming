{
 "cells": [
  {
   "cell_type": "markdown",
   "metadata": {},
   "source": [
    "<html>\n",
    "<body>\n",
    "<div align=\"center\">\n",
    "<h3>Prepared by Omar Mahmoud</h3>\n",
    "    \n",
    "<h1>Sorting</h1>\n",
    "\n",
    "<h3>Note: This repository is for a personal Reference and study</h3>\n",
    "\n",
    "<h3>Follow Me on - <a href=\"https://www.linkedin.com/in/omar-mahmoud-5bb616175/\">LinkedIn</a>&nbsp; <a href=\"https://twitter.com/OmarMah25544092\">Twitter</a>&nbsp; <a href=\"https://www.instagram.com/3amory99/\">Instagram</a>&nbsp; <a href=\"https://www.facebook.com/Mora898/\">Facebook</a></h3>\n",
    "</div>\n",
    "\n",
    "</div>\n",
    "</body>\n",
    "</html>"
   ]
  },
  {
   "cell_type": "markdown",
   "metadata": {},
   "source": [
    "The goal is to be able to explain and implement bubble, merge, insert, quicksort, and Shell sort."
   ]
  },
  {
   "cell_type": "markdown",
   "metadata": {},
   "source": [
    "# Sorting\n",
    "- **A Sorting Algorithm is used to rearrange a given array or list elements according to a comparison operator on the elements. The comparison operator is used to decide the new order of element in the respective data structure.**"
   ]
  },
  {
   "cell_type": "markdown",
   "metadata": {},
   "source": [
    "### Bubble Sort\n",
    "- **Bubble sort makes multiple passes through the list. It compares the adjacent elements and swaps those that are in the wrong order. Each pass through the list places the next highest value at its correct position. In essence, each element** ***`bubble`*** **into place.**\n",
    "- **The permutation operation, sometimes called** **`swap`** **is somewhat simpler in Python than in most other programming languages.**\n",
    "- **Usually, swapping two elements of the list requires temporary storing of their location (additional memory).**"
   ]
  },
  {
   "cell_type": "markdown",
   "metadata": {},
   "source": [
    "This figure in image show the mechanism of the algorithm <img src=\"bubble sort.png\" width=500 height=500 />"
   ]
  },
  {
   "cell_type": "code",
   "execution_count": 14,
   "metadata": {},
   "outputs": [],
   "source": [
    "def BubbleSort(myList):\n",
    "    for passnum in range(len(myList)-1, 0, -1):\n",
    "        for i in range(passnum):\n",
    "            if myList[i] > myList[i + 1]:\n",
    "                temp = myList[i]\n",
    "                myList[i] = myList[i + 1]\n",
    "                myList[i + 1] = temp"
   ]
  },
  {
   "cell_type": "code",
   "execution_count": 15,
   "metadata": {},
   "outputs": [
    {
     "name": "stdout",
     "output_type": "stream",
     "text": [
      "[17, 20, 26, 31, 44, 54, 55, 77, 93]\n"
     ]
    }
   ],
   "source": [
    "\n",
    "myList = [54, 26, 93, 17, 77, 31, 44, 55, 20]\n",
    "BubbleSort(myList)\n",
    "print(myList)"
   ]
  },
  {
   "cell_type": "markdown",
   "metadata": {},
   "source": [
    "##### However, because bubble sort traverses the entire unsorted part of the list, it does something that most sorting algorithms cannot. In particular, if no permutation was done during the pass, then we know that the list is already sorted. Thus, the algorithm can be modified to stop earlier if it detects that the task has been completed."
   ]
  },
  {
   "cell_type": "code",
   "execution_count": 10,
   "metadata": {},
   "outputs": [],
   "source": [
    "def shortBubbleSort(alist):\n",
    "    exchanges = True\n",
    "    passnum = len(alist) - 1\n",
    "    while passnum > 0 and exchanges:\n",
    "       exchanges = False\n",
    "       for i in range(passnum):\n",
    "           if alist[i] > alist[i + 1]:\n",
    "               exchanges = True\n",
    "               temp = alist[i]\n",
    "               alist[i] = alist[i + 1]\n",
    "               alist[i + 1] = temp\n",
    "       passnum = passnum - 1"
   ]
  },
  {
   "cell_type": "code",
   "execution_count": 11,
   "metadata": {},
   "outputs": [
    {
     "name": "stdout",
     "output_type": "stream",
     "text": [
      "[20, 30, 40, 50, 60, 70, 80, 90, 100, 110]\n"
     ]
    }
   ],
   "source": [
    "alist=[20, 30, 40, 90, 50, 60, 70, 80, 100, 110]\n",
    "shortBubbleSort(alist)\n",
    "print(alist)"
   ]
  },
  {
   "cell_type": "markdown",
   "metadata": {},
   "source": [
    "### Insertion Sort\n",
    "* **It always maintains a sorted sublist at the subscripts of the list. Each new element is “inserted” into the sorted list in the last iteration, so that it remains sorted and becomes one more element..**\n",
    "- **The maximum number of comparisons for insertion sort is equal to the sum of the first n − 1 integers.**\n",
    "- **in the best case, only one comparison is required per pass. This will happen when the list is already sorted.**\n",
    "- **O (n ^ 2)  complexity**"
   ]
  },
  {
   "cell_type": "markdown",
   "metadata": {},
   "source": [
    "##### An important note about the difference between shift and exchange: in general, the shift operation requires about a third of the computational work of the exchange, since only one assignment is made. In control, insertion sort has a very good performance."
   ]
  },
  {
   "cell_type": "markdown",
   "metadata": {},
   "source": [
    "This figure in image show the mechanism of the algorithm <img src=\"insertion sort.png\" width=500 height=500 />"
   ]
  },
  {
   "cell_type": "code",
   "execution_count": 8,
   "metadata": {},
   "outputs": [],
   "source": [
    "def insertionSort(myList):\n",
    "   for index in range(1, len(myList)):\n",
    "\n",
    "     currentvalue = myList[index]\n",
    "     position = index\n",
    "\n",
    "     while position > 0 and myList[position - 1] > currentvalue:\n",
    "         myList[position] = myList[position - 1]\n",
    "         position -= 1\n",
    "\n",
    "     myList[position] = currentvalue"
   ]
  },
  {
   "cell_type": "code",
   "execution_count": 9,
   "metadata": {},
   "outputs": [
    {
     "name": "stdout",
     "output_type": "stream",
     "text": [
      "[17, 20, 26, 31, 44, 54, 55, 77, 93]\n"
     ]
    }
   ],
   "source": [
    "myList = [54, 26, 93, 17, 77, 31, 44, 55, 20]\n",
    "insertionSort(myList)\n",
    "print(myList)"
   ]
  },
  {
   "cell_type": "code",
   "execution_count": 10,
   "metadata": {},
   "outputs": [
    {
     "name": "stdout",
     "output_type": "stream",
     "text": [
      "2.77 µs ± 239 ns per loop (mean ± std. dev. of 7 runs, 100000 loops each)\n"
     ]
    }
   ],
   "source": [
    "%timeit insertionSort(myList)"
   ]
  },
  {
   "cell_type": "markdown",
   "metadata": {},
   "source": [
    "# Merge sort\n",
    "\n",
    "- **Merging is the process of combining two smaller sorted lists into one new but also sorted list.**\n",
    "- **A recursive algorithm that continually splits the list in halves.**\n",
    "- **If the list is empty or consists of one element, then it is sorted by definition (base case).**\n",
    "- **If there is more than one element in the list, we split it and recursively call merge sort on each of the halfes.**\n",
    "- **After both of them have already been sorted, a basic operation called merge is performed.**"
   ]
  },
  {
   "cell_type": "markdown",
   "metadata": {},
   "source": [
    "This figure in image show the mechanism of **Merge Sort** algorithm \n",
    "<div id=\"banner\" style=\"overflow: hidden; display: flex; justify-content:space-around;\">\n",
    "    <div class=\"inline-block\">\n",
    "        <img src=\"merge sort a.png\" width=500 height=500 />\n",
    "    </div>\n",
    "    <div class=\"inline-block\">\n",
    "        <img src=\"merge sort b.png\" width=500 height=500 />\n",
    "    </div>\n",
    "\n",
    "</div> "
   ]
  },
  {
   "cell_type": "markdown",
   "metadata": {},
   "source": [
    "### Merge:\n",
    "\n",
    "* *We start by checking the baseline condition. If the length of the list is less than or equal to one, then it is already sorted, and there is no need for further processing. On the other hand, if the length is greater than one, then we use the Python slice operation to extract the right and left sides. It is important to note that a list can have an odd number of items. For the algorithm, this is not important, since the lengths will differ by a maximum of one.*"
   ]
  },
  {
   "cell_type": "code",
   "execution_count": 5,
   "metadata": {},
   "outputs": [],
   "source": [
    "def MergeSort(alist):\n",
    "    print(\"Splitting \",alist)\n",
    "    if len(alist) > 1:\n",
    "        mid = len(alist) // 2\n",
    "        lefthalf = alist[:mid]\n",
    "        righthalf = alist[mid:]\n",
    "\n",
    "        MergeSort(lefthalf)\n",
    "        MergeSort(righthalf)\n",
    "\n",
    "        i, j, k = 0, 0, 0\n",
    "        while i < len(lefthalf) and j < len(righthalf):\n",
    "            if lefthalf[i] < righthalf[j]:\n",
    "                alist[k] = lefthalf[i]\n",
    "                i += 1\n",
    "            else:\n",
    "                alist[k] = righthalf[j]\n",
    "                j += 1\n",
    "            k += 1\n",
    "\n",
    "        while i < len(lefthalf):\n",
    "            alist[k]=lefthalf[i]\n",
    "            i += 1\n",
    "            k += 1\n",
    "\n",
    "        while j < len(righthalf):\n",
    "            alist[k] = righthalf[j]\n",
    "            j += 1\n",
    "            k += 1\n",
    "    print(\"Merging \",alist)\n"
   ]
  },
  {
   "cell_type": "code",
   "execution_count": 14,
   "metadata": {
    "scrolled": false
   },
   "outputs": [
    {
     "name": "stdout",
     "output_type": "stream",
     "text": [
      "Splitting  [54, 26, 93, 17, 77, 31, 44, 55, 20]\n",
      "Splitting  [54, 26, 93, 17]\n",
      "Splitting  [54, 26]\n",
      "Splitting  [54]\n",
      "Merging  [54]\n",
      "Splitting  [26]\n",
      "Merging  [26]\n",
      "Merging  [26, 54]\n",
      "Splitting  [93, 17]\n",
      "Splitting  [93]\n",
      "Merging  [93]\n",
      "Splitting  [17]\n",
      "Merging  [17]\n",
      "Merging  [17, 93]\n",
      "Merging  [17, 26, 54, 93]\n",
      "Splitting  [77, 31, 44, 55, 20]\n",
      "Splitting  [77, 31]\n",
      "Splitting  [77]\n",
      "Merging  [77]\n",
      "Splitting  [31]\n",
      "Merging  [31]\n",
      "Merging  [31, 77]\n",
      "Splitting  [44, 55, 20]\n",
      "Splitting  [44]\n",
      "Merging  [44]\n",
      "Splitting  [55, 20]\n",
      "Splitting  [55]\n",
      "Merging  [55]\n",
      "Splitting  [20]\n",
      "Merging  [20]\n",
      "Merging  [20, 55]\n",
      "Merging  [20, 44, 55]\n",
      "Merging  [20, 31, 44, 55, 77]\n",
      "Merging  [17, 20, 26, 31, 44, 54, 55, 77, 93]\n",
      "<function MergeSort at 0x0000017E7B5FE1F0>\n"
     ]
    }
   ],
   "source": [
    "myList = [54, 26, 93, 17, 77, 31, 44, 55, 20]\n",
    "MergeSort(myList)\n",
    "print(MergeSort)"
   ]
  },
  {
   "cell_type": "code",
   "execution_count": null,
   "metadata": {},
   "outputs": [],
   "source": [
    "%timeit MergeSort(myList)"
   ]
  },
  {
   "cell_type": "markdown",
   "metadata": {},
   "source": [
    "This table in image show the **`Complixty`** **(Algorithm Performence)**   <img src=\"complixty.png\" width=500 height=500 />\n"
   ]
  },
  {
   "cell_type": "markdown",
   "metadata": {},
   "source": [
    "## That's great keep on ✨"
   ]
  }
 ],
 "metadata": {
  "kernelspec": {
   "display_name": "Python 3",
   "language": "python",
   "name": "python3"
  },
  "language_info": {
   "codemirror_mode": {
    "name": "ipython",
    "version": 3
   },
   "file_extension": ".py",
   "mimetype": "text/x-python",
   "name": "python",
   "nbconvert_exporter": "python",
   "pygments_lexer": "ipython3",
   "version": "3.8.5"
  }
 },
 "nbformat": 4,
 "nbformat_minor": 4
}
