{
 "cells": [
  {
   "cell_type": "markdown",
   "metadata": {},
   "source": [
    "<html>\n",
    "<body>\n",
    "<div align=\"center\">\n",
    "<h3>Prepared by Omar Mahmoud</h3>\n",
    "    \n",
    "<h1>Searching && Sorting</h1>\n",
    "\n",
    "<h3>Note: This repository is for a personal Reference and study</h3>\n",
    "\n",
    "<h3>Follow Me on - <a href=\"https://www.linkedin.com/in/omar-mahmoud-5bb616175/\">LinkedIn</a>&nbsp; <a href=\"https://twitter.com/OmarMah25544092\">Twitter</a>&nbsp; <a href=\"https://www.instagram.com/3amory99/\">Instagram</a>&nbsp; <a href=\"https://www.facebook.com/Mora898/\">Facebook</a></h3>\n",
    "</div>\n",
    "\n",
    "</div>\n",
    "</body>\n",
    "</html>"
   ]
  },
  {
   "cell_type": "markdown",
   "metadata": {},
   "source": [
    "# Searching"
   ]
  },
  {
   "cell_type": "markdown",
   "metadata": {},
   "source": [
    "## Algorithm for binary search in a list and sorting lists"
   ]
  },
  {
   "cell_type": "markdown",
   "metadata": {},
   "source": [
    "### Binary Search\n",
    "- **The classic algorithm for finding an element in a sorted list, using splitting an array into halves.**\n",
    "- **Let's demonstrate a version for sorted lists without duplicate elements.**\n",
    "- **The complexity of the algorithm is** **`O (log (n))`** **,where n is the length of the input list**"
   ]
  },
  {
   "cell_type": "code",
   "execution_count": 40,
   "metadata": {},
   "outputs": [],
   "source": [
    "def binary_search(arr, x, start, end):\n",
    "    if start > end or len(arr) == 0:\n",
    "        return -1\n",
    "    midd = (start+end)//2\n",
    "    if arr[midd] == x:\n",
    "        return midd\n",
    "    elif arr[midd] < x:\n",
    "        return binary_search(arr,x, midd + 1, end)\n",
    "    else:\n",
    "        return binary_search(arr, x, start, midd - 1)"
   ]
  },
  {
   "cell_type": "code",
   "execution_count": 41,
   "metadata": {},
   "outputs": [
    {
     "name": "stdout",
     "output_type": "stream",
     "text": [
      "Item: 6, Index: 0\n",
      "Item: 7, Index: 1\n",
      "Item: 8, Index: 2\n",
      "Item: 9, Index: 3\n",
      "Item: 10, Index: 4\n",
      "Item: 11, Index: 5\n",
      "Item: 12, Index: 6\n",
      "Item: 13, Index: 7\n"
     ]
    }
   ],
   "source": [
    "arr = range(6,14)\n",
    "for k in arr:\n",
    "    print(\"Item: {0}, Index: {1}\".format(k, binary_search(arr, k, 0, len(arr)-1)))"
   ]
  },
  {
   "cell_type": "code",
   "execution_count": 45,
   "metadata": {},
   "outputs": [],
   "source": [
    "a = []\n",
    "for i in a:\n",
    "    print(\"Elem: {0}, Index: {1}\".format(i, binary_search(a, i, 0, len(a)-1)))"
   ]
  },
  {
   "cell_type": "code",
   "execution_count": 48,
   "metadata": {},
   "outputs": [
    {
     "data": {
      "text/plain": [
       "-1"
      ]
     },
     "execution_count": 48,
     "metadata": {},
     "output_type": "execute_result"
    }
   ],
   "source": [
    "# Not Found\n",
    "a = []\n",
    "binary_search(a, 3, 0, 0)"
   ]
  },
  {
   "cell_type": "markdown",
   "metadata": {},
   "source": [
    "### Linear search\n",
    "- **The simplest algorithm for finding an item in a list.**\n",
    "- **Works in O (n) time, where n is the length of the input list.**\n",
    "- **It is also clear from the name of the algorithm.**"
   ]
  },
  {
   "cell_type": "code",
   "execution_count": 78,
   "metadata": {},
   "outputs": [],
   "source": [
    "def linear_search(myList, x):\n",
    "    i, length = 0, len(myList)\n",
    "    while i < length and x != myList[i]:\n",
    "        i += 1\n",
    "    return i,myList[i] if i < length else -1"
   ]
  },
  {
   "cell_type": "code",
   "execution_count": 55,
   "metadata": {},
   "outputs": [
    {
     "data": {
      "text/plain": [
       "(3, 11)"
      ]
     },
     "execution_count": 55,
     "metadata": {},
     "output_type": "execute_result"
    }
   ],
   "source": [
    "linear_search([i for i in range(2,20,3)],11)"
   ]
  },
  {
   "cell_type": "code",
   "execution_count": 95,
   "metadata": {},
   "outputs": [],
   "source": [
    "def linear_search(myList, x):\n",
    "    for i in myList:\n",
    "        if i == x :\n",
    "            return i\n",
    "        "
   ]
  },
  {
   "cell_type": "code",
   "execution_count": 98,
   "metadata": {},
   "outputs": [
    {
     "name": "stdout",
     "output_type": "stream",
     "text": [
      "[2, 5, 8, 11, 14, 17]\n"
     ]
    }
   ],
   "source": [
    "a =[i for i in range(2,20,3)]\n",
    "print(a)\n",
    "linear_search(a,10)"
   ]
  },
  {
   "cell_type": "markdown",
   "metadata": {},
   "source": [
    "# Sorting\n",
    "**The sorting problem is one of the first in computer science, and has always served as a test for the performance of computers.**"
   ]
  },
  {
   "cell_type": "markdown",
   "metadata": {},
   "source": [
    "### Heap Sort\n",
    "- **For sorting, we need the** **`heappush`** **and** **`heappop`** **methods - to insert an element into the structure and delete a structure element while maintaining the invariant of this data structure.**\n",
    "- **The values of the child elements are less than the value of the parent element.**\n",
    "- **We need to import** **`heapq`** **library to use sorting algo.**\n",
    "- **The implementation of the algorithm is very simple: the maximum (root) element is sequentially retrieved from the heap and written to the end of the list until the heap is empty.**\n",
    "- **The complexity of the algorithm is** **`O (n * log (n))`** **,where n is the length of the input list.**\n"
   ]
  },
  {
   "cell_type": "code",
   "execution_count": 105,
   "metadata": {},
   "outputs": [],
   "source": [
    "import heapq\n",
    "def HeapSort(myList):\n",
    "    h = []\n",
    "    for i in myList:\n",
    "        heapq.heappush(h,i)\n",
    "    return [heapq.heappop(h) for i in range(len(h))]"
   ]
  },
  {
   "cell_type": "code",
   "execution_count": 106,
   "metadata": {},
   "outputs": [
    {
     "data": {
      "text/plain": [
       "[0, 1, 2, 3, 4, 5, 6, 7, 8, 9]"
      ]
     },
     "execution_count": 106,
     "metadata": {},
     "output_type": "execute_result"
    }
   ],
   "source": [
    "list1 =[1, 3, 5, 7, 9, 2, 4, 6, 8, 0]\n",
    "HeapSort(list1)"
   ]
  },
  {
   "cell_type": "code",
   "execution_count": 108,
   "metadata": {},
   "outputs": [
    {
     "name": "stdout",
     "output_type": "stream",
     "text": [
      "4.93 µs ± 395 ns per loop (mean ± std. dev. of 7 runs, 100000 loops each)\n"
     ]
    }
   ],
   "source": [
    "%timeit HeapSort(list1)"
   ]
  },
  {
   "cell_type": "markdown",
   "metadata": {},
   "source": [
    "### QuickSort\n",
    "- **One of the most famous sorting algorithms, also known as qsort. It can look very concise without randomization.**\n",
    "- **The complexity of the algorithm is** **`O (n * log (n))`** **,where n is the length of the input list.**\n"
   ]
  },
  {
   "cell_type": "code",
   "execution_count": 110,
   "metadata": {},
   "outputs": [
    {
     "data": {
      "text/plain": [
       "[0, 1, 2, 3, 4, 5, 6, 7, 8, 9]"
      ]
     },
     "execution_count": 110,
     "metadata": {},
     "output_type": "execute_result"
    }
   ],
   "source": [
    "def quick_sort(arr):\n",
    "    if len(arr) <= 1:\n",
    "        return arr\n",
    "    else:\n",
    "        return quick_sort([x for x in arr[1:] if x < arr[0]]) + \\\n",
    "               [arr[0]] + \\\n",
    "               quick_sort([x for x in arr[1:] if x >= arr[0]])\n",
    "\n",
    "quick_sort([1, 3, 5, 7, 9, 2, 4, 6, 8, 0])"
   ]
  },
  {
   "cell_type": "code",
   "execution_count": 111,
   "metadata": {},
   "outputs": [
    {
     "name": "stdout",
     "output_type": "stream",
     "text": [
      "18.8 µs ± 2.38 µs per loop (mean ± std. dev. of 7 runs, 100000 loops each)\n"
     ]
    }
   ],
   "source": [
    "%timeit quick_sort([1, 3, 5, 7, 9, 2, 4, 6, 8, 0])"
   ]
  },
  {
   "cell_type": "markdown",
   "metadata": {},
   "source": [
    "## That's great keep on ✨"
   ]
  }
 ],
 "metadata": {
  "kernelspec": {
   "display_name": "Python 3",
   "language": "python",
   "name": "python3"
  },
  "language_info": {
   "codemirror_mode": {
    "name": "ipython",
    "version": 3
   },
   "file_extension": ".py",
   "mimetype": "text/x-python",
   "name": "python",
   "nbconvert_exporter": "python",
   "pygments_lexer": "ipython3",
   "version": "3.8.5"
  }
 },
 "nbformat": 4,
 "nbformat_minor": 4
}
