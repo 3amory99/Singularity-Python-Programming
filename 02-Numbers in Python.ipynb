{
 "cells": [
  {
   "cell_type": "markdown",
   "metadata": {},
   "source": [
    "<html>\n",
    "<body>\n",
    "<div align=\"center\">\n",
    "<h3>Prepared by Omar Mahmoud</h3>\n",
    "    \n",
    "<h1>Numbers in Python</h1>\n",
    "\n",
    "<h3>Note: This repository is for a personal Reference and study</h3>\n",
    "\n",
    "<h3>Follow Me on - <a href=\"https://www.linkedin.com/in/omar-mahmoud-5bb616175/\">LinkedIn</a>&nbsp; <a href=\"https://twitter.com/OmarMah25544092\">Twitter</a>&nbsp; <a href=\"https://www.instagram.com/3amory99/\">Instagram</a>&nbsp; <a href=\"https://www.facebook.com/Mora898/\">Facebook</a></h3>\n",
    "</div>\n",
    "\n",
    "</div>\n",
    "</body>\n",
    "</html>"
   ]
  },
  {
   "cell_type": "markdown",
   "metadata": {},
   "source": [
    "**Numbers in Python are different:**\n",
    "- Integers (int): 122, -4, 99999999999, 0o177, 0x9ff, 0b101010\n",
    "- Real numbers (float): 1.0, 3.14, .5, 4E21, 4.0e21\n",
    "- Complex numbers (complex): 3 + 4j, 3.0 + 4.0j,\n",
    "- Fixed precision numbers% decimal.Decimal ('0.1')\n",
    "- Rational numbers: `fractions.Fraction` (3, 4)\n",
    "- Operations with integers and real numbers"
   ]
  },
  {
   "cell_type": "markdown",
   "metadata": {},
   "source": [
    "***All Numbers***"
   ]
  },
  {
   "cell_type": "code",
   "execution_count": 1,
   "metadata": {},
   "outputs": [
    {
     "name": "stdout",
     "output_type": "stream",
     "text": [
      "13\n"
     ]
    }
   ],
   "source": [
    "print(10+3)"
   ]
  },
  {
   "cell_type": "code",
   "execution_count": 2,
   "metadata": {},
   "outputs": [
    {
     "name": "stdout",
     "output_type": "stream",
     "text": [
      "6\n"
     ]
    }
   ],
   "source": [
    "print(7-1)"
   ]
  },
  {
   "cell_type": "code",
   "execution_count": 3,
   "metadata": {},
   "outputs": [
    {
     "name": "stdout",
     "output_type": "stream",
     "text": [
      "24\n"
     ]
    }
   ],
   "source": [
    "print(3*8)\n"
   ]
  },
  {
   "cell_type": "code",
   "execution_count": 4,
   "metadata": {},
   "outputs": [
    {
     "name": "stdout",
     "output_type": "stream",
     "text": [
      "2\n"
     ]
    }
   ],
   "source": [
    "print(8//3)\n"
   ]
  },
  {
   "cell_type": "code",
   "execution_count": 5,
   "metadata": {},
   "outputs": [
    {
     "name": "stdout",
     "output_type": "stream",
     "text": [
      "1.6666666666666667\n"
     ]
    }
   ],
   "source": [
    "print(5/3)\n"
   ]
  },
  {
   "cell_type": "markdown",
   "metadata": {},
   "source": [
    "*Note: It's impossible to divide into zero it will return error exception*"
   ]
  },
  {
   "cell_type": "code",
   "execution_count": 6,
   "metadata": {},
   "outputs": [
    {
     "ename": "ZeroDivisionError",
     "evalue": "division by zero",
     "output_type": "error",
     "traceback": [
      "\u001b[1;31m---------------------------------------------------------------------------\u001b[0m",
      "\u001b[1;31mZeroDivisionError\u001b[0m                         Traceback (most recent call last)",
      "\u001b[1;32m<ipython-input-6-76ea80225931>\u001b[0m in \u001b[0;36m<module>\u001b[1;34m\u001b[0m\n\u001b[1;32m----> 1\u001b[1;33m \u001b[0mprint\u001b[0m\u001b[1;33m(\u001b[0m\u001b[1;36m3\u001b[0m \u001b[1;33m/\u001b[0m \u001b[1;36m0\u001b[0m\u001b[1;33m)\u001b[0m\u001b[1;33m\u001b[0m\u001b[1;33m\u001b[0m\u001b[0m\n\u001b[0m",
      "\u001b[1;31mZeroDivisionError\u001b[0m: division by zero"
     ]
    }
   ],
   "source": [
    "print(3 / 0)"
   ]
  },
  {
   "cell_type": "code",
   "execution_count": 7,
   "metadata": {},
   "outputs": [
    {
     "name": "stdout",
     "output_type": "stream",
     "text": [
      "1\n"
     ]
    }
   ],
   "source": [
    "# Modulus\n",
    "print(7 % 3)"
   ]
  },
  {
   "cell_type": "code",
   "execution_count": 8,
   "metadata": {},
   "outputs": [
    {
     "name": "stdout",
     "output_type": "stream",
     "text": [
      "1296\n"
     ]
    }
   ],
   "source": [
    "print(6**4)\n"
   ]
  },
  {
   "cell_type": "code",
   "execution_count": 9,
   "metadata": {},
   "outputs": [
    {
     "name": "stdout",
     "output_type": "stream",
     "text": [
      "0.4\n"
     ]
    }
   ],
   "source": [
    "print(.2 + .2)"
   ]
  },
  {
   "cell_type": "code",
   "execution_count": 10,
   "metadata": {},
   "outputs": [
    {
     "name": "stdout",
     "output_type": "stream",
     "text": [
      "10\n",
      "2.57\n",
      "4\n"
     ]
    }
   ],
   "source": [
    "# Using commas to separate variables and their corresponding values.\n",
    "hight , size , weight = 10,2.57,4 \n",
    "print(hight)\n",
    "print(size)\n",
    "print(weight)\n"
   ]
  },
  {
   "cell_type": "markdown",
   "metadata": {},
   "source": [
    "**Complex numbers**"
   ]
  },
  {
   "cell_type": "code",
   "execution_count": 11,
   "metadata": {},
   "outputs": [
    {
     "name": "stdout",
     "output_type": "stream",
     "text": [
      "|(4+7j)| = 8.06225774829855\n"
     ]
    }
   ],
   "source": [
    "print(\"|{0}| = {1}\".format(complex(4, 7), abs(complex(4, 7))))"
   ]
  },
  {
   "cell_type": "code",
   "execution_count": 23,
   "metadata": {},
   "outputs": [
    {
     "name": "stdout",
     "output_type": "stream",
     "text": [
      "16\n"
     ]
    }
   ],
   "source": [
    "value = 2 ** 4\n",
    "print(value)"
   ]
  },
  {
   "cell_type": "markdown",
   "metadata": {},
   "source": [
    "## Fixed Precision and Rational Numbers\n",
    "\n",
    "\n",
    "To solve problems related to the accuracy of the representation of prime real numbers, real numbers with fixed precision and rational numbers (numbers represented by a fraction, that is, a pair of integers - a numerator and a denominator) have been introduced. "
   ]
  },
  {
   "cell_type": "code",
   "execution_count": 35,
   "metadata": {},
   "outputs": [
    {
     "name": "stdout",
     "output_type": "stream",
     "text": [
      "0.33999999999999997\n"
     ]
    },
    {
     "data": {
      "text/plain": [
       "True"
      ]
     },
     "execution_count": 35,
     "metadata": {},
     "output_type": "execute_result"
    }
   ],
   "source": [
    "print(3.4/10)\n",
    "from decimal import Decimal\n",
    "from decimal import getcontext\n",
    "getcontext().prec = 3\n",
    "Decimal('4') / 3  == Decimal('1.33')"
   ]
  },
  {
   "cell_type": "code",
   "execution_count": 46,
   "metadata": {},
   "outputs": [
    {
     "name": "stdout",
     "output_type": "stream",
     "text": [
      "0.367\n"
     ]
    }
   ],
   "source": [
    "from decimal import Decimal\n",
    "from decimal import getcontext\n",
    "getcontext().prec = 3\n",
    "print(Decimal('1.10') / 3)"
   ]
  },
  {
   "cell_type": "code",
   "execution_count": 50,
   "metadata": {},
   "outputs": [
    {
     "name": "stdout",
     "output_type": "stream",
     "text": [
      "0.09803921568627451\n",
      "True\n"
     ]
    }
   ],
   "source": [
    "print(5/51)\n",
    "print(5/51*51 == 5)"
   ]
  },
  {
   "cell_type": "code",
   "execution_count": 56,
   "metadata": {},
   "outputs": [
    {
     "name": "stdout",
     "output_type": "stream",
     "text": [
      "True\n"
     ]
    }
   ],
   "source": [
    "from fractions import Fraction\n",
    "print(Fraction(5, 51) * 51 == 5)\n"
   ]
  },
  {
   "cell_type": "markdown",
   "metadata": {},
   "source": [
    "## Assignment operators"
   ]
  },
  {
   "cell_type": "code",
   "execution_count": 13,
   "metadata": {},
   "outputs": [
    {
     "data": {
      "text/plain": [
       "50"
      ]
     },
     "execution_count": 13,
     "metadata": {},
     "output_type": "execute_result"
    }
   ],
   "source": [
    "x = 50\n",
    "x"
   ]
  },
  {
   "cell_type": "code",
   "execution_count": 14,
   "metadata": {},
   "outputs": [
    {
     "data": {
      "text/plain": [
       "150"
      ]
     },
     "execution_count": 14,
     "metadata": {},
     "output_type": "execute_result"
    }
   ],
   "source": [
    "x = x + 100\n",
    "x"
   ]
  },
  {
   "cell_type": "markdown",
   "metadata": {},
   "source": [
    "- ( x + = 10 )  ==   ( x = x + 10 )"
   ]
  },
  {
   "cell_type": "code",
   "execution_count": 15,
   "metadata": {},
   "outputs": [
    {
     "data": {
      "text/plain": [
       "160"
      ]
     },
     "execution_count": 15,
     "metadata": {},
     "output_type": "execute_result"
    }
   ],
   "source": [
    "x += 10\n",
    "x"
   ]
  },
  {
   "cell_type": "code",
   "execution_count": 16,
   "metadata": {},
   "outputs": [
    {
     "data": {
      "text/plain": [
       "152"
      ]
     },
     "execution_count": 16,
     "metadata": {},
     "output_type": "execute_result"
    }
   ],
   "source": [
    "x -= 8\n",
    "x"
   ]
  },
  {
   "cell_type": "code",
   "execution_count": 17,
   "metadata": {},
   "outputs": [
    {
     "data": {
      "text/plain": [
       "456"
      ]
     },
     "execution_count": 17,
     "metadata": {},
     "output_type": "execute_result"
    }
   ],
   "source": [
    "x *= 3\n",
    "x"
   ]
  },
  {
   "cell_type": "code",
   "execution_count": 18,
   "metadata": {},
   "outputs": [
    {
     "data": {
      "text/plain": [
       "152.0"
      ]
     },
     "execution_count": 18,
     "metadata": {},
     "output_type": "execute_result"
    }
   ],
   "source": [
    "x /= 3\n",
    "x"
   ]
  },
  {
   "cell_type": "markdown",
   "metadata": {},
   "source": [
    "**Order of math operations**\n",
    "- Brackets ()\n",
    "- **\n",
    "- *, /, //, %\n",
    "- +, -\n",
    "\n",
    "\n",
    "**if any operation in the same rank for ex: *, % so operation goes from left to right.**"
   ]
  },
  {
   "cell_type": "markdown",
   "metadata": {},
   "source": [
    "Here's a **Python Operator Priority or Precedence** in image  <img src=\"numbers.png\" width=500 height=500 />\n"
   ]
  },
  {
   "cell_type": "code",
   "execution_count": 19,
   "metadata": {},
   "outputs": [
    {
     "name": "stdout",
     "output_type": "stream",
     "text": [
      "132\n"
     ]
    }
   ],
   "source": [
    "new_v = 10 + 30 * 4 + 2 \n",
    "print(new_v)"
   ]
  },
  {
   "cell_type": "code",
   "execution_count": 20,
   "metadata": {},
   "outputs": [
    {
     "name": "stdout",
     "output_type": "stream",
     "text": [
      "4\n"
     ]
    }
   ],
   "source": [
    "new_s = 27 // 3 % 5\n",
    "print(new_s)"
   ]
  },
  {
   "cell_type": "code",
   "execution_count": 21,
   "metadata": {},
   "outputs": [
    {
     "data": {
      "text/plain": [
       "10"
      ]
     },
     "execution_count": 21,
     "metadata": {},
     "output_type": "execute_result"
    }
   ],
   "source": [
    "100 % 35 // 3"
   ]
  },
  {
   "cell_type": "code",
   "execution_count": 58,
   "metadata": {},
   "outputs": [
    {
     "data": {
      "text/plain": [
       "1"
      ]
     },
     "execution_count": 58,
     "metadata": {},
     "output_type": "execute_result"
    }
   ],
   "source": [
    "100 % (35 // 3)"
   ]
  },
  {
   "cell_type": "markdown",
   "metadata": {},
   "source": [
    "# Simple Calculator"
   ]
  },
  {
   "cell_type": "markdown",
   "metadata": {},
   "source": [
    "#### On the occasion of this topic we will create a simple app"
   ]
  },
  {
   "cell_type": "code",
   "execution_count": 65,
   "metadata": {},
   "outputs": [
    {
     "name": "stdout",
     "output_type": "stream",
     "text": [
      "Hello in our simple app\n",
      "Please enter first value: 5\n",
      "Please enter second value: 4\n",
      "sum:  9.0\n",
      "subtraction:  1.0\n",
      "Multiplication:  20.0\n",
      "Divition:  1.25\n",
      "Intger Divition:  1.0\n",
      "Modulas:  1.0\n",
      "Power:  625.0\n"
     ]
    }
   ],
   "source": [
    "print(\"Hello in our simple app\")\n",
    "x = float(input(\"Please enter first value: \"))\n",
    "y = float(input(\"Please enter second value: \"))\n",
    "\n",
    "print(\"sum: \", x + y)\n",
    "print(\"subtraction: \",x - y)\n",
    "print(\"Multiplication: \", x * y)\n",
    "print(\"Divition: \",x / y)\n",
    "print(\"Intger Divition: \",x // y)\n",
    "print(\"Modulas: \",x % y)\n",
    "print(\"Power: \",x ** y)"
   ]
  },
  {
   "cell_type": "code",
   "execution_count": 2,
   "metadata": {
    "scrolled": true
   },
   "outputs": [
    {
     "name": "stdout",
     "output_type": "stream",
     "text": [
      "Hello in our simple app\n",
      "Please enter first value: 5\n",
      "Please enter second value: 4\n",
      "Please enter second value: *\n",
      "Multiplication:  20.0\n"
     ]
    }
   ],
   "source": [
    "print(\"Hello in our simple app\")\n",
    "x = float(input(\"Please enter first value: \"))\n",
    "y = float(input(\"Please enter second value: \"))\n",
    "operator = str(input(\"Please enter second value: \"))\n",
    "if operator==\"+\":\n",
    "    print(\"sum: \", x + y)\n",
    "elif  operator==\"-\":\n",
    "    print(\"subtraction: \",x - y)\n",
    "elif  operator==\"*\":\n",
    "    print(\"Multiplication: \", x * y)\n",
    "elif  operator==\"/\":\n",
    "    print(\"Divition: \",x / y)\n",
    "elif  operator==\"//\":\n",
    "    print(\"Intger Divition: \",x // y)\n",
    "elif  operator==\"%\":\n",
    "    print(\"Modulas: \",x % y)\n",
    "elif  operator==\"**\":\n",
    "    print(\"Power: \",x ** y)\n",
    "else:\n",
    "    print(\"Sorry you entered invalid operator, Plz enter a valid operator!\")"
   ]
  },
  {
   "cell_type": "markdown",
   "metadata": {},
   "source": [
    "- 1e+100 -----------> 1 * 10 ** 100\n",
    "- 5e+40 -------------> 5 * 10 ** 40\n",
    "- 2e-30 --------------> 2 * 10 ** -30"
   ]
  },
  {
   "cell_type": "markdown",
   "metadata": {},
   "source": [
    "## That's great keep on ✨"
   ]
  }
 ],
 "metadata": {
  "kernelspec": {
   "display_name": "Python 3",
   "language": "python",
   "name": "python3"
  },
  "language_info": {
   "codemirror_mode": {
    "name": "ipython",
    "version": 3
   },
   "file_extension": ".py",
   "mimetype": "text/x-python",
   "name": "python",
   "nbconvert_exporter": "python",
   "pygments_lexer": "ipython3",
   "version": "3.8.5"
  }
 },
 "nbformat": 4,
 "nbformat_minor": 4
}
