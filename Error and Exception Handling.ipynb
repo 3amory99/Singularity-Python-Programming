{
 "cells": [
  {
   "cell_type": "markdown",
   "metadata": {},
   "source": [
    "<html>\n",
    "<body>\n",
    "<div align=\"center\">\n",
    "<h3>Prepared by Omar Mahmoud</h3>\n",
    "    \n",
    "<h1>Error and Exception Handling ⛔❌🚫</h1>\n",
    "\n",
    "<h3>Note: This repository is for a personal Reference and study</h3>\n",
    "\n",
    "<h3>Follow Me on - <a href=\"https://www.linkedin.com/in/omar-mahmoud-5bb616175/\">LinkedIn</a>&nbsp; <a href=\"https://twitter.com/OmarMah25544092\">Twitter</a>&nbsp; <a href=\"https://www.instagram.com/3amory99/\">Instagram</a>&nbsp; <a href=\"https://www.facebook.com/Mora898/\">Facebook</a></h3>\n",
    "</div>\n",
    "\n",
    "</div>\n",
    "</body>\n",
    "</html>"
   ]
  },
  {
   "cell_type": "markdown",
   "metadata": {},
   "source": [
    "# Error and Exception Handling\n",
    "\n",
    "- *Python has many built-in exceptions (SyntaxError, FileNotFoundError, IndexError, ArithmeticError, ZeroDivisionError, EOFError, KeyError, IndentationError, etc) that are raised when your program encounters an error.*\n",
    "- *When the exception occurs Python interpreter stops the current process and passes it to the calling process until it is handled. If exception is not handled the program will crash.*\n",
    "- *Exceptions in python can be handled using a ****`try`**** statement. The try block lets you test a block of code for errors.*\n",
    "- *The block of code which can raise an exception is placed inside the try clause. The code that will handle the exceptions is written in the ****`except`**** clause.*\n",
    "- *The finally code block will execute regardless of the result of the try and except blocks.*\n",
    "- *We can also use the ****`else`**** keyword to define a block of code to be executed if no exceptions were raised.*"
   ]
  },
  {
   "cell_type": "markdown",
   "metadata": {},
   "source": [
    "**Exception Handling work flow** in image  <img src=\"exception.png\" width=650 height=650 />"
   ]
  },
  {
   "cell_type": "code",
   "execution_count": 33,
   "metadata": {},
   "outputs": [],
   "source": [
    "import os\n",
    "import sys"
   ]
  },
  {
   "cell_type": "code",
   "execution_count": 23,
   "metadata": {},
   "outputs": [
    {
     "name": "stdout",
     "output_type": "stream",
     "text": [
      "10\n"
     ]
    }
   ],
   "source": [
    "try:\n",
    "    x = 10\n",
    "    print(x)                               \n",
    "\n",
    "except:\n",
    "    print('Variable x is not defined')"
   ]
  },
  {
   "cell_type": "code",
   "execution_count": 28,
   "metadata": {},
   "outputs": [
    {
     "name": "stdout",
     "output_type": "stream",
     "text": [
      "Name 'y' is not defined Exception Occured\n"
     ]
    }
   ],
   "source": [
    "# NameError exception will be encountered as variable x is not defined\n",
    "try:\n",
    "    print(y)                               \n",
    "\n",
    "except:\n",
    "    print(str(sys.exc_info()[1]).capitalize(),\"Exception Occured\")"
   ]
  },
  {
   "cell_type": "code",
   "execution_count": 29,
   "metadata": {},
   "outputs": [
    {
     "name": "stdout",
     "output_type": "stream",
     "text": [
      "Division by zero Exception occured\n",
      "Run this block of code always\n"
     ]
    }
   ],
   "source": [
    "try:\n",
    "    print(100/0) # Division by zero\n",
    "# This statement will be executed if there is an exception\n",
    "except:\n",
    "    print(str(sys.exc_info()[1]).capitalize() , 'Exception occured') \n",
    "# This will be skipped as code block inside try encountered an exception\n",
    "else:\n",
    "    print('No exception occurred') \n",
    "# This will be always executed anyway\n",
    "finally:\n",
    "        print('Run this block of code always')"
   ]
  },
  {
   "cell_type": "code",
   "execution_count": 31,
   "metadata": {},
   "outputs": [
    {
     "ename": "SyntaxError",
     "evalue": "invalid syntax (<ipython-input-31-0c7dcd851f45>, line 2)",
     "output_type": "error",
     "traceback": [
      "\u001b[1;36m  File \u001b[1;32m\"<ipython-input-31-0c7dcd851f45>\"\u001b[1;36m, line \u001b[1;32m2\u001b[0m\n\u001b[1;33m    print(no variable = 'this is not right variable')\u001b[0m\n\u001b[1;37m             ^\u001b[0m\n\u001b[1;31mSyntaxError\u001b[0m\u001b[1;31m:\u001b[0m invalid syntax\n"
     ]
    }
   ],
   "source": [
    "try:\n",
    "    print(no variable = 'this is not right variable')\n",
    "except:\n",
    "    print(str(sys.exc_info()[1]).capitalize() , 'Exception occured')\n",
    "else:\n",
    "    print('Done without errors')"
   ]
  },
  {
   "cell_type": "code",
   "execution_count": 34,
   "metadata": {},
   "outputs": [
    {
     "name": "stdout",
     "output_type": "stream",
     "text": [
      "[winerror 2] the system cannot find the file specified: 'test.txt' Exception occured\n",
      "This line will execute anyway\n"
     ]
    }
   ],
   "source": [
    "# FileNotFoundError exception will be encountered as \"test.txt\" is not exist in this path directory\n",
    "try:\n",
    "    os.remove(\"test.txt\") \n",
    "except:\n",
    "        print(str(sys.exc_info()[1]).capitalize() , 'Exception occured')\n",
    "else:\n",
    "    print('Done without errors')\n",
    "finally:\n",
    "    print('This line will execute anyway')"
   ]
  },
  {
   "cell_type": "code",
   "execution_count": 40,
   "metadata": {},
   "outputs": [
    {
     "name": "stdout",
     "output_type": "stream",
     "text": [
      "Enter first num : 4\n",
      "Enter secound numb :- 0\n",
      "Division by zero exception occurred\n"
     ]
    }
   ],
   "source": [
    "# Handling specific exceptions\n",
    "try:\n",
    "    x = int(input('Enter first num : '))\n",
    "    y =  int(input('Enter secound numb :- '))  # If input entered is non-zero the control will move to next line\n",
    "    print(x/y)\n",
    "    os.remove(\"test3.txt\")\n",
    "\n",
    "except NameError:\n",
    "    print(str(sys.exc_info()[1]).capitalize(),'exception occurred')\n",
    "\n",
    "except FileNotFoundError:\n",
    "    print(str(sys.exc_info()[1]).capitalize(),'exception occurred')\n",
    "    \n",
    "except ZeroDivisionError:\n",
    "    print(str(sys.exc_info()[1]).capitalize(),'exception occurred')  "
   ]
  },
  {
   "cell_type": "code",
   "execution_count": 41,
   "metadata": {},
   "outputs": [
    {
     "name": "stdout",
     "output_type": "stream",
     "text": [
      "Enter first num : 4\n",
      "Enter secound numb :- 2\n",
      "2.0\n",
      "[winerror 2] the system cannot find the file specified: 'test3.txt' exception occurred\n"
     ]
    }
   ],
   "source": [
    "# Handling specific exceptions\n",
    "try:\n",
    "    x = int(input('Enter first num : '))\n",
    "    y =  int(input('Enter secound numb :- '))  # If input entered is non-zero the control will move to next line\n",
    "    print(x/y)\n",
    "    os.remove(\"test3.txt\")\n",
    "\n",
    "except NameError:\n",
    "    print(str(sys.exc_info()[1]).capitalize(),'exception occurred')\n",
    "\n",
    "except FileNotFoundError:\n",
    "    print(str(sys.exc_info()[1]).capitalize(),'exception occurred')\n",
    "    \n",
    "except ZeroDivisionError:\n",
    "    print(str(sys.exc_info()[1]).capitalize(),'exception occurred')  "
   ]
  },
  {
   "cell_type": "code",
   "execution_count": 47,
   "metadata": {},
   "outputs": [
    {
     "name": "stdout",
     "output_type": "stream",
     "text": [
      "Enter first number : 12\n",
      "<class 'ValueError'>\n"
     ]
    }
   ],
   "source": [
    "# If value of x is greater than 10 ValueError exception will be encountered.\n",
    "try:\n",
    "    x = int(input('Enter first number : '))\n",
    "    if x > 10:\n",
    "        raise ValueError(x)\n",
    "except:\n",
    "    print(sys.exc_info()[0])"
   ]
  },
  {
   "cell_type": "code",
   "execution_count": 48,
   "metadata": {},
   "outputs": [],
   "source": [
    "import math"
   ]
  },
  {
   "cell_type": "code",
   "execution_count": 51,
   "metadata": {},
   "outputs": [
    {
     "name": "stdout",
     "output_type": "stream",
     "text": [
      "2.6881171418161356e+43\n",
      "Success, no error found!\n"
     ]
    }
   ],
   "source": [
    "try:\n",
    "    print(math.exp(100))\n",
    "except:\n",
    "    print(str(sys.exc_info()[1]).capitalize(),'exception occurred')\n",
    "else:  \n",
    "    print (\"Success, no error found!\")"
   ]
  },
  {
   "cell_type": "code",
   "execution_count": 56,
   "metadata": {},
   "outputs": [
    {
     "name": "stdout",
     "output_type": "stream",
     "text": [
      "Math range error exception occurred\n",
      "(<class 'OverflowError'>, OverflowError('math range error'), <traceback object at 0x0000018741946DC0>) exception occurred\n"
     ]
    }
   ],
   "source": [
    "# OverflowError - This exception is raised when the result of a numeric calculation is too large\n",
    "try:\n",
    "    print(math.exp(10000))\n",
    "except OverflowError:\n",
    "    print(str(sys.exc_info()[1]).capitalize(),'exception occurred')\n",
    "    print(sys.exc_info(),'exception occurred')\n",
    "\n",
    "else:  \n",
    "    print (\"Success, no error found!\")"
   ]
  },
  {
   "cell_type": "code",
   "execution_count": 58,
   "metadata": {},
   "outputs": [
    {
     "name": "stdout",
     "output_type": "stream",
     "text": [
      "Error: Could not find file or read data\n",
      "[errno 2] no such file or directory: 'test.txt' exception occurred\n"
     ]
    }
   ],
   "source": [
    "try:\n",
    "    file = open('test.txt','r')\n",
    "    file.write('testing testing testing testing testing testing.')\n",
    "except IOError:\n",
    "    print(\"Error: Could not find file or read data\")\n",
    "    print(str(sys.exc_info()[1]).capitalize(),'exception occurred')\n",
    "else:\n",
    "    print('Done without errors')\n",
    "    file.close()"
   ]
  },
  {
   "cell_type": "code",
   "execution_count": 62,
   "metadata": {},
   "outputs": [
    {
     "name": "stdout",
     "output_type": "stream",
     "text": [
      "Done without errors\n",
      "testing testing testing testing testing testing.\n"
     ]
    }
   ],
   "source": [
    "try:\n",
    "    file = open('test.txt','w+')\n",
    "    file.write('testing testing testing testing testing testing.')\n",
    "except IOError:\n",
    "    print(\"Error: Could not find file or read data\")\n",
    "    print(str(sys.exc_info()[1]).capitalize(),'exception occurred')\n",
    "else:\n",
    "    print('Done without errors')\n",
    "    file.seek(0)\n",
    "    print(file.read())\n",
    "    file.close()"
   ]
  },
  {
   "cell_type": "code",
   "execution_count": 67,
   "metadata": {},
   "outputs": [
    {
     "name": "stdout",
     "output_type": "stream",
     "text": [
      "Done without errors\n",
      "testing testing testing testing testing testing.testing testing testing testing testing testing.testing testing testing testing testing testing.testing testing testing testing testing testing.testing testing testing testing testing testing.testing testing testing testing testing testing.\n"
     ]
    }
   ],
   "source": [
    "try:\n",
    "    file = open('test.txt','a+')\n",
    "    file.write('testing testing testing testing testing testing.')\n",
    "except IOError:\n",
    "    print(\"Error: Could not find file or read data\")\n",
    "    print(str(sys.exc_info()[1]).capitalize(),'exception occurred')\n",
    "else:\n",
    "    print('Done without errors')\n",
    "    file.seek(0)\n",
    "    print(file.read())\n",
    "    file.close()"
   ]
  },
  {
   "cell_type": "code",
   "execution_count": 68,
   "metadata": {},
   "outputs": [
    {
     "name": "stdout",
     "output_type": "stream",
     "text": [
      "Unsupported operand type(s) for /: 'int' and 'str' exception occurred\n"
     ]
    }
   ],
   "source": [
    "try:  \n",
    "    a = 10\n",
    "    b = \"Omar\"\n",
    "    c = a/b\n",
    "except TypeError:  \n",
    "    print(str(sys.exc_info()[1]).capitalize(),'exception occurred')\n"
   ]
  },
  {
   "cell_type": "markdown",
   "metadata": {},
   "source": [
    "## That's great keep on ✨"
   ]
  }
 ],
 "metadata": {
  "kernelspec": {
   "display_name": "Python 3",
   "language": "python",
   "name": "python3"
  },
  "language_info": {
   "codemirror_mode": {
    "name": "ipython",
    "version": 3
   },
   "file_extension": ".py",
   "mimetype": "text/x-python",
   "name": "python",
   "nbconvert_exporter": "python",
   "pygments_lexer": "ipython3",
   "version": "3.8.5"
  }
 },
 "nbformat": 4,
 "nbformat_minor": 4
}
